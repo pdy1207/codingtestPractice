{
 "cells": [
  {
   "cell_type": "markdown",
   "id": "a8157e8c",
   "metadata": {},
   "source": [
    "### 2023년 07월 14일 금요일\n",
    "---\n",
    "**Programmers - 짝수 홀수 개수 (JavaScript)** <br />\n",
    "[문제](https://school.programmers.co.kr/learn/courses/30/lessons/120824?language=javascript) : \n",
    "```\n",
    "정수가 담긴 리스트 num_list가 주어질 때, num_list의 원소 중 짝수와 홀수의 개수를 담은 배열을 return 하도록 solution 함수\n",
    "```"
   ]
  },
  {
   "cell_type": "code",
   "execution_count": null,
   "id": "d8e56f78",
   "metadata": {},
   "outputs": [],
   "source": [
    "function solution(num_list) {\n",
    "    var answer = [0, 0];\n",
    "\n",
    "    for(let i = 0 ; i < num_list.length; i++){\n",
    "        if(num_list[i] % 2 == 0) answer[0]++;\n",
    "        else answer[1]++;\n",
    "    }\n",
    "\n",
    "    return answer;\n",
    "}"
   ]
  },
  {
   "cell_type": "code",
   "execution_count": null,
   "id": "e8116ea4",
   "metadata": {},
   "outputs": [],
   "source": [
    "function solution(num_list) {\n",
    "    var answer = [0,0];\n",
    "\n",
    "    for(let a of num_list){\n",
    "        answer[a%2] += 1\n",
    "    }\n",
    "\n",
    "    return answer;\n",
    "}"
   ]
  }
 ],
 "metadata": {
  "kernelspec": {
   "display_name": "JavaScript (Node.js)",
   "language": "javascript",
   "name": "javascript"
  },
  "language_info": {
   "file_extension": ".js",
   "mimetype": "application/javascript",
   "name": "javascript",
   "version": "18.12.1"
  }
 },
 "nbformat": 4,
 "nbformat_minor": 5
}
