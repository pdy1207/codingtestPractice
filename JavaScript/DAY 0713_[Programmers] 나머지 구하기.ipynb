{
 "cells": [
  {
   "cell_type": "markdown",
   "id": "9fa01998",
   "metadata": {},
   "source": [
    "### 2023년 07월 13일 목요일\n",
    "\n",
    "---\n",
    "**Programmers - 나머지 구하기 (JavaScript)** <br />\n",
    "[문제](https://school.programmers.co.kr/learn/courses/30/lessons/120810) :  num1를 num2로 나눈 나머지를 return 하도록 solution 함수"
   ]
  },
  {
   "cell_type": "code",
   "execution_count": null,
   "id": "513f0b60",
   "metadata": {},
   "outputs": [],
   "source": [
    "function solution(num1, num2) {\n",
    "    var answer = num1%num2;\n",
    "    return answer;\n",
    "}"
   ]
  }
 ],
 "metadata": {
  "kernelspec": {
   "display_name": "JavaScript (Node.js)",
   "language": "javascript",
   "name": "javascript"
  },
  "language_info": {
   "file_extension": ".js",
   "mimetype": "application/javascript",
   "name": "javascript",
   "version": "18.12.1"
  }
 },
 "nbformat": 4,
 "nbformat_minor": 5
}
