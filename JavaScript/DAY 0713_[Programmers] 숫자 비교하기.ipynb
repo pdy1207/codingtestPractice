{
 "cells": [
  {
   "cell_type": "markdown",
   "id": "0c9b9cc4",
   "metadata": {},
   "source": [
    "### 2023년 07월 13일 목요일\n",
    "\n",
    "---\n",
    "**Programmers - 숫자 비교하기 (JavaScript)** <br />\n",
    "[문제](https://school.programmers.co.kr/learn/courses/30/lessons/120807) :  두 수가 같으면 1 다르면 -1을 retrun하도록 solution 함수"
   ]
  },
  {
   "cell_type": "code",
   "execution_count": null,
   "id": "ec078978",
   "metadata": {},
   "outputs": [],
   "source": [
    "function solution(num1, num2) {\n",
    "    if(num1 === num2){\n",
    "        return 1\n",
    "    } else {\n",
    "        return -1\n",
    "    }\n",
    "}\n",
    "\n",
    "// 삼항연산자 사용\n",
    "function solution(num1, num2) {\n",
    "    var answer = num1 === num2 ? 1 : -1;\n",
    "    return answer;\n",
    "}"
   ]
  }
 ],
 "metadata": {
  "kernelspec": {
   "display_name": "JavaScript (Node.js)",
   "language": "javascript",
   "name": "javascript"
  },
  "language_info": {
   "file_extension": ".js",
   "mimetype": "application/javascript",
   "name": "javascript",
   "version": "18.12.1"
  }
 },
 "nbformat": 4,
 "nbformat_minor": 5
}
