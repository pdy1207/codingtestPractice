{
 "cells": [
  {
   "cell_type": "markdown",
   "id": "f5c029ac",
   "metadata": {},
   "source": [
    "### 2023년 08월 12일 토요일\n",
    "\n",
    "---\n",
    "**Programmers - 배열 뒤집기 (JavaScript)** <br />\n",
    "[문제](https://school.programmers.co.kr/learn/courses/30/lessons/120821) \n",
    "```\n",
    "입출력 예 #1\n",
    "\n",
    "num_list가 [1, 2, 3, 4, 5]이므로 순서를 거꾸로 뒤집은 배열 [5, 4, 3, 2, 1]을 return합니다.\n",
    "입출력 예 #2\n",
    "\n",
    "num_list가 [1, 1, 1, 1, 1, 2]이므로 순서를 거꾸로 뒤집은 배열 [2, 1, 1, 1, 1, 1]을 return합니다.\n",
    "입출력 예 #3\n",
    "\n",
    "num_list가 [1, 0, 1, 1, 1, 3, 5]이므로 순서를 거꾸로 뒤집은 배열 [5, 3, 1, 1, 1, 0, 1]을 return합니다.\n",
    "```"
   ]
  },
  {
   "cell_type": "code",
   "execution_count": null,
   "id": "a9fed729",
   "metadata": {},
   "outputs": [],
   "source": [
    "function solution(num_list) {\n",
    "    var answer = num_list.reverse();\n",
    "    return answer;\n",
    "}"
   ]
  }
 ],
 "metadata": {
  "kernelspec": {
   "display_name": "JavaScript (Node.js)",
   "language": "javascript",
   "name": "javascript"
  },
  "language_info": {
   "file_extension": ".js",
   "mimetype": "application/javascript",
   "name": "javascript",
   "version": "16.17.1"
  }
 },
 "nbformat": 4,
 "nbformat_minor": 5
}
