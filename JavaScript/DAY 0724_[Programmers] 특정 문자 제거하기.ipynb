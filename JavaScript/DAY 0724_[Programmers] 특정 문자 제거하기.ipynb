{
 "cells": [
  {
   "cell_type": "markdown",
   "id": "f5c029ac",
   "metadata": {},
   "source": [
    "### 2023년 07월 24일 월요일\n",
    "\n",
    "---\n",
    "**Programmers - NULL 처리하기 (JavaScript)** <br />\n",
    "[문제](https://school.programmers.co.kr/learn/courses/30/lessons/120826?language=javascript) \n",
    "```\n",
    "문자열 my_string과 문자 letter이 매개변수로 주어집니다. my_string에서 letter를 제거한 문자열을 return하도록 solution 함수\n",
    "\n",
    "입출력 예 설명\n",
    "입출력 예 #1\n",
    "\n",
    "\"abcdef\" 에서 \"f\"를 제거한 \"abcde\"를 return합니다.\n",
    "입출력 예 #2\n",
    "\n",
    "\"BCBdbe\" 에서 \"B\"를 모두 제거한 \"Cdbe\"를 return합니다.\n",
    "```"
   ]
  },
  {
   "cell_type": "code",
   "execution_count": null,
   "id": "a9fed729",
   "metadata": {},
   "outputs": [],
   "source": [
    "function solution(my_string, letter) {\n",
    "    const answer = my_string.split(letter).join('');\n",
    "    return answer;\n",
    "}"
   ]
  },
  {
   "cell_type": "code",
   "execution_count": null,
   "id": "a780128c",
   "metadata": {},
   "outputs": [],
   "source": [
    "var str = 'HTML,CSS,JavaScript';\n",
    "var words = str.split(',');\n",
    "// 결과 : ['HTML', 'CSS', 'JavaScript']\n",
    "\n",
    "// words[0] : 'HTML'\n",
    "// words[1] : 'CSS'\n",
    "// words[2] : 'JavaScript'"
   ]
  },
  {
   "cell_type": "code",
   "execution_count": null,
   "id": "b9226b60",
   "metadata": {},
   "outputs": [],
   "source": [
    "const arr = ['바람', '비', '물'];\n",
    "\n",
    "console.log(arr.join());\n",
    "// 바람,비,물\n",
    "\n",
    "console.log(arr.join(''));\n",
    "// 바람비물\n",
    "\n",
    "console.log(arr.join('-'));\n",
    "// 바람-비-물"
   ]
  },
  {
   "cell_type": "code",
   "execution_count": null,
   "id": "9dfdbc7d",
   "metadata": {},
   "outputs": [],
   "source": [
    "// 퍼포먼스\n",
    "function solution(my_string, letter) {\n",
    "    return my_string.replaceAll(letter, \"\");\n",
    "}"
   ]
  }
 ],
 "metadata": {
  "kernelspec": {
   "display_name": "JavaScript (Node.js)",
   "language": "javascript",
   "name": "javascript"
  },
  "language_info": {
   "file_extension": ".js",
   "mimetype": "application/javascript",
   "name": "javascript",
   "version": "16.17.1"
  }
 },
 "nbformat": 4,
 "nbformat_minor": 5
}
