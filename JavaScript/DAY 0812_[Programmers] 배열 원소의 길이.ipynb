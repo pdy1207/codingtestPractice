{
 "cells": [
  {
   "cell_type": "markdown",
   "id": "f5c029ac",
   "metadata": {},
   "source": [
    "### 2023년 08월 12일 토요일\n",
    "\n",
    "---\n",
    "**Programmers - 배열 원소의 길이 (JavaScript)** <br />\n",
    "[문제](https://school.programmers.co.kr/learn/courses/30/lessons/120854) \n",
    "```\n",
    "strlist 각 원소의 길이를 담은 배열을 retrun하도록 solution 함수\n",
    "\n",
    "입출력 예 #1\n",
    "\n",
    "[\"We\", \"are\", \"the\", \"world!\"]의 각 원소의 길이인 [2, 3, 3, 6]을 return합니다.\n",
    "입출력 예 #2\n",
    "\n",
    "[\"I\", \"Love\", \"Programmers.\"]의 각 원소의 길이인 [1, 4, 12]을 return합니다.\n",
    "```"
   ]
  },
  {
   "cell_type": "code",
   "execution_count": null,
   "id": "a9fed729",
   "metadata": {},
   "outputs": [],
   "source": [
    "function solution(strlist) {\n",
    "    var answer = [];\n",
    "    for(var i = 0; i < strlist.length; i++){        \n",
    "        answer[i] = strlist[i].length; // answer[i]값에 strlist[i]의 길이 넣기\n",
    "    }\n",
    "    return answer;\n",
    "}"
   ]
  },
  {
   "cell_type": "code",
   "execution_count": null,
   "id": "4f860f0d",
   "metadata": {},
   "outputs": [],
   "source": [
    "function solution(strlist) {\n",
    "    return strlist.map((el) => el.length)\n",
    "}\n",
    "\n",
    "배열.map((요소, 인덱스, 배열) => { return 요소 });"
   ]
  },
  {
   "cell_type": "code",
   "execution_count": null,
   "id": "06c6fdd6",
   "metadata": {},
   "outputs": [],
   "source": [
    "map() 메서드는 배열 내의 모든 요소 각각에 대하여 주어진 함수를 호출한 결과를 모아 새로운 배열을 반환해주는 함수이다."
   ]
  }
 ],
 "metadata": {
  "kernelspec": {
   "display_name": "JavaScript (Node.js)",
   "language": "javascript",
   "name": "javascript"
  },
  "language_info": {
   "file_extension": ".js",
   "mimetype": "application/javascript",
   "name": "javascript",
   "version": "16.17.1"
  }
 },
 "nbformat": 4,
 "nbformat_minor": 5
}
