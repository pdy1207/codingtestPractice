{
 "cells": [
  {
   "cell_type": "markdown",
   "id": "f5c029ac",
   "metadata": {},
   "source": [
    "### 2023년 07월 30일 일요일\n",
    "\n",
    "---\n",
    "**Programmers - 배열자르기 (JavaScript)** <br />\n",
    "[문제](https://school.programmers.co.kr/learn/courses/30/lessons/120833) \n",
    "```\n",
    "정수 배열 numbers와 정수 num1, num2가 매개변수로 주어질 때, numbers의 num1번 째 인덱스부터 num2번째 인덱스까지 자른 정수 배열을 return 하도록 solution 함수\n",
    "\n",
    "입출력 예 #1\n",
    "\n",
    "[1, 2, 3, 4, 5]의 1번째 인덱스 2부터 3번째 인덱스 4 까지 자른 [2, 3, 4]를 return 합니다.\n",
    "입출력 예 #2\n",
    "\n",
    "[1, 3, 5]의 1번째 인덱스 3부터 2번째 인덱스 5까지 자른 [3, 5]를 return 합니다.\n",
    "```"
   ]
  },
  {
   "cell_type": "code",
   "execution_count": null,
   "id": "9dfdbc7d",
   "metadata": {},
   "outputs": [],
   "source": [
    "function solution(numbers, num1, num2) {\n",
    "    var answer = numbers.slice(num1,num2+1);    \n",
    "    return answer;\n",
    "}\n",
    "\n",
    "// 해당 splice 면 통과가 안되는 이유는 이와 동일하다.\n",
    "function solution(numbers, num1, num2) {\n",
    "    var answer = numbers.splice(num1,num2);    \n",
    "    return answer;\n",
    "}"
   ]
  },
  {
   "cell_type": "markdown",
   "id": "0b26497f",
   "metadata": {},
   "source": [
    "```\n",
    "splice의 내부를 살펴보자면 splice(start, deleteCount) 로 구성되어있습니다. (splice 메소드의 3번째 파라미터부터는 추가할 요소이므로 생략하겠습니다.)\n",
    "그리고 slice 메소드는 slice(begin, end)로 구성되어있습니다.\n",
    "\n",
    "여기까지만 보셔도 아 ..! 라는 반응을 보이실텐데 조금 더 설명을 드리자면\n",
    "\n",
    "slice(start : 추출을 시작할 인덱스, end: 추출을 끝낼 인덱스)\n",
    "splice( start : 자르기 시작할 인덱스, deleteCount : start부터 어디까지 삭제할지에 대한 int 값)\n",
    "```\n",
    "- [더 자세한 설명](https://school.programmers.co.kr/questions/37517)"
   ]
  }
 ],
 "metadata": {
  "kernelspec": {
   "display_name": "JavaScript (Node.js)",
   "language": "javascript",
   "name": "javascript"
  },
  "language_info": {
   "file_extension": ".js",
   "mimetype": "application/javascript",
   "name": "javascript",
   "version": "16.17.1"
  }
 },
 "nbformat": 4,
 "nbformat_minor": 5
}
