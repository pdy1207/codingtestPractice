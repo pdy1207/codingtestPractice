{
 "cells": [
  {
   "cell_type": "markdown",
   "id": "71e5ac24",
   "metadata": {},
   "source": [
    "### 2023년 07월 13일 목요일\n",
    "---\n",
    "**Programmers - 배열의 평균값 (JavaScript)** <br />\n",
    "[문제](https://school.programmers.co.kr/learn/courses/30/lessons/120817?language=javascript) :  \n",
    "```\n",
    "numbers의 원소의 평균값을 return하도록 solution 함수\n",
    "```"
   ]
  },
  {
   "cell_type": "code",
   "execution_count": null,
   "id": "9e3ae029",
   "metadata": {},
   "outputs": [],
   "source": [
    "function solution(numbers) {\n",
    "  let sum = 0;\n",
    "  for (let i = 0; i < numbers.length; i++) {\n",
    "    sum += numbers[i];\n",
    "  }\n",
    "  const average = sum / numbers.length;\n",
    "  return average;\n",
    "}\n",
    "\n",
    "// 간단한 방법\n",
    "function solution(numbers) {\n",
    "    var answer = 0;\n",
    "    for(i of numbers) {\n",
    "        answer += i\n",
    "    }\n",
    "    return answer / numbers.length;\n",
    "}"
   ]
  },
  {
   "cell_type": "code",
   "execution_count": null,
   "id": "3a52ab29",
   "metadata": {},
   "outputs": [],
   "source": [
    "배열 요소의 합계를 추적하기 위해 const arr = [];을 let sum = 0;으로 대체했습니다.\n",
    "루프 조건 for (let i = 1; i < numbers; i++)를 for (let i = 0; i < numbers.length; i++)로 대체하여 배열의 실제 요소를 반복합니다.\n",
    "arr.push(i);를 sum += numbers[i];로 변경하여 numbers 배열의 각 요소를 sum 변수에 추가했습니다.\n",
    "'sum'을 'numbers' 배열의 길이로 나눈 평균값을 저장하는 새로운 변수 'average'를 제작했습니다.\n",
    "'average' 값을 결과로 반환했습니다."
   ]
  }
 ],
 "metadata": {
  "kernelspec": {
   "display_name": "JavaScript (Node.js)",
   "language": "javascript",
   "name": "javascript"
  },
  "language_info": {
   "file_extension": ".js",
   "mimetype": "application/javascript",
   "name": "javascript",
   "version": "18.12.1"
  }
 },
 "nbformat": 4,
 "nbformat_minor": 5
}
