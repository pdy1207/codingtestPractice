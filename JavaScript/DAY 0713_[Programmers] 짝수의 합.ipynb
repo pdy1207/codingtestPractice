{
 "cells": [
  {
   "cell_type": "markdown",
   "id": "71e5ac24",
   "metadata": {},
   "source": [
    "### 2023년 07월 13일 목요일\n",
    "---\n",
    "**Programmers - 짝수의 합 (JavaScript)** <br />\n",
    "[문제](https://school.programmers.co.kr/learn/courses/30/lessons/120831?language=javascript) :  \n",
    "```\n",
    "정수 n이 주어질 때, n이하의 짝수를 모두 더한 값을 return 하도록 solution 함수\n",
    "```"
   ]
  },
  {
   "cell_type": "code",
   "execution_count": null,
   "id": "9e3ae029",
   "metadata": {},
   "outputs": [],
   "source": [
    "function solution(n) {\n",
    "    let answer = 0\n",
    "    for (let i = 1; i <= n; i++) {\n",
    "        if (i % 2 === 0) {\n",
    "            answer += i            \n",
    "        }\n",
    "    }\n",
    "    return answer\n",
    "}\n",
    "\n",
    "// 반복 횟수를 줄이는 방법\n",
    "\n",
    "function solution(n) {\n",
    "    var answer = 0;\n",
    "    for(let i=2 ; i<=n ; i+=2)\n",
    "        answer += i;\n",
    "    return answer;\n",
    "}"
   ]
  }
 ],
 "metadata": {
  "kernelspec": {
   "display_name": "JavaScript (Node.js)",
   "language": "javascript",
   "name": "javascript"
  },
  "language_info": {
   "file_extension": ".js",
   "mimetype": "application/javascript",
   "name": "javascript",
   "version": "18.12.1"
  }
 },
 "nbformat": 4,
 "nbformat_minor": 5
}
