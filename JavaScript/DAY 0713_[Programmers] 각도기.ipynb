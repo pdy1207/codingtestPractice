{
 "cells": [
  {
   "cell_type": "markdown",
   "id": "71e5ac24",
   "metadata": {},
   "source": [
    "### 2023년 07월 13일 목요일\n",
    "---\n",
    "**Programmers - 각도기 (JavaScript)** <br />\n",
    "[문제](https://school.programmers.co.kr/learn/courses/30/lessons/120829?language=javascript) :  \n",
    "```\n",
    "각 angle이 매개변수로 주어질 때 예각일 때 1, 직각일 때 2, 둔각일 때 3, 평각일 때 4를 return하도록 solution 함수를 완성해주세요.\n",
    "\n",
    "예각 : 0 < angle < 90\n",
    "직각 : angle = 90\n",
    "둔각 : 90 < angle < 180\n",
    "평각 : angle = 180\n",
    "```"
   ]
  },
  {
   "cell_type": "code",
   "execution_count": null,
   "id": "37b099d4",
   "metadata": {},
   "outputs": [],
   "source": [
    "js는 0 < angle < 90 연산이 불가능 &&로 변경"
   ]
  },
  {
   "cell_type": "code",
   "execution_count": null,
   "id": "9e3ae029",
   "metadata": {},
   "outputs": [],
   "source": [
    "function solution(angle) {\n",
    "    let answer = 0;\n",
    "    if(angle === 180) return 4;\n",
    "    else if (angle < 180 && angle > 90) return 3;\n",
    "    else if (angle === 90) return 2;\n",
    "    else return 1;\n",
    "}\n",
    "\n",
    "// 퍼포먼스 \n",
    "\n",
    "function solution(angle) {\n",
    "    return [0, 90, 91, 180].filter(x => angle>=x).length;\n",
    "}\n",
    "\n",
    "// 삼항연산자\n",
    "\n",
    "function solution(angle) {\n",
    "    return angle < 90 ? 1 : angle === 90 ? 2 : angle < 180 ? 3 : 4;\n",
    "}\n",
    "\n",
    "// switch\n",
    "\n",
    "function solution(angle) {\n",
    "    switch(angle) {\n",
    "        case 90: return 2;\n",
    "        case 180: return 4;\n",
    "        default:\n",
    "            return angle > 0 && angle < 90 ? 1 : 3;\n",
    "    }\n",
    "}"
   ]
  }
 ],
 "metadata": {
  "kernelspec": {
   "display_name": "JavaScript (Node.js)",
   "language": "javascript",
   "name": "javascript"
  },
  "language_info": {
   "file_extension": ".js",
   "mimetype": "application/javascript",
   "name": "javascript",
   "version": "18.12.1"
  }
 },
 "nbformat": 4,
 "nbformat_minor": 5
}
