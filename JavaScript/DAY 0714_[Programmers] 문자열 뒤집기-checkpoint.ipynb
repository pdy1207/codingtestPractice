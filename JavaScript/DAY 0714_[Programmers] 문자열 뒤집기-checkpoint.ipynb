{
 "cells": [
  {
   "cell_type": "markdown",
   "id": "a8157e8c",
   "metadata": {},
   "source": [
    "### 2023년 07월 14일 금요일\n",
    "---\n",
    "**Programmers - 문자열 뒤집기 (JavaScript)** <br />\n",
    "[문제](https://school.programmers.co.kr/learn/courses/30/lessons/120822?language=javascript) : \n",
    "```\n",
    "my_string을 거꾸로 뒤집은 문자열을 return하도록 solution 함수\n",
    "```"
   ]
  },
  {
   "cell_type": "code",
   "execution_count": null,
   "id": "d8e56f78",
   "metadata": {},
   "outputs": [],
   "source": [
    "function solution(my_string) {\n",
    "    var answer = my_string.split(\"\").reverse().join(\"\");    \n",
    "    return answer;\n",
    "}"
   ]
  },
  {
   "cell_type": "code",
   "execution_count": null,
   "id": "e8116ea4",
   "metadata": {},
   "outputs": [],
   "source": [
    "function solution(my_string) {\n",
    "    var answer = [...my_string].reverse().join(\"\");\n",
    "    return answer;\n",
    "}"
   ]
  },
  {
   "cell_type": "code",
   "execution_count": null,
   "id": "2ed875d8",
   "metadata": {},
   "outputs": [],
   "source": [
    "function reverseString(str) {\n",
    "    // 1. split() 메서드를 사용해 새 배열을 반환하기\n",
    "    var splitString = str.split(\"\"); // var splitString = \"hello\".split(\"\");\n",
    "    // [\"h\", \"e\", \"l\", \"l\", \"o\"]\n",
    " \n",
    "    // 2. reverse() 메서드를 사용해 새 배열의 순서를 뒤집기\n",
    "    var reverseArray = splitString.reverse(); // var reverseArray = [\"h\", \"e\", \"l\", \"l\", \"o\"].reverse();\n",
    "    // [\"o\", \"l\", \"l\", \"e\", \"h\"]\n",
    " \n",
    "    // 3. join() 메서드를 사용해 배열의 모든 요소를 문자열로 결합하기\n",
    "    var joinArray = reverseArray.join(\"\"); // var joinArray = [\"o\", \"l\", \"l\", \"e\", \"h\"].join(\"\");\n",
    "    // \"olleh\"\n",
    "    \n",
    "    // 4. 반전된 문자열을 반환하기\n",
    "    return joinArray; // \"olleh\"\n",
    "}\n",
    " \n",
    "reverseString(\"hello\");\n"
   ]
  }
 ],
 "metadata": {
  "kernelspec": {
   "display_name": "JavaScript (Node.js)",
   "language": "javascript",
   "name": "javascript"
  },
  "language_info": {
   "file_extension": ".js",
   "mimetype": "application/javascript",
   "name": "javascript",
   "version": "18.12.1"
  }
 },
 "nbformat": 4,
 "nbformat_minor": 5
}
