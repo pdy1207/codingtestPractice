{
 "cells": [
  {
   "cell_type": "markdown",
   "id": "71e5ac24",
   "metadata": {},
   "source": [
    "### 2023년 07월 13일 목요일\n",
    "---\n",
    "**Programmers - 양꼬치 (JavaScript)** <br />\n",
    "[문제](https://school.programmers.co.kr/learn/courses/30/lessons/120830?language=javascript) :  \n",
    "```\n",
    "머쓱이네 양꼬치 가게는 10인분을 먹으면 음료수 하나를 서비스로 줍니다. 양꼬치는 1인분에 12,000원, 음료수는 2,000원입니다. 정수 n과 k가 매개변수로 주어졌을 때, 양꼬치 n인분과 음료수 k개를 먹었다면 총얼마를 지불해야 하는지 return 하도록 solution 함수를 완성해보세요.\n",
    "\n",
    "입출력 예 #1\n",
    "\n",
    "10인분을 시켜 서비스로 음료수를 하나 받아 총 10 * 12000 + 3 * 2000 - 1 * 2000 = 124,000원입니다.\n",
    "입출력 예 #2\n",
    "\n",
    "64인분을 시켜 서비스로 음료수를 6개 받아 총 64 * 12000 + 6 * 2000 - 6 * 2000 =768,000원입니다.\n",
    "```"
   ]
  },
  {
   "cell_type": "code",
   "execution_count": null,
   "id": "3a52ab29",
   "metadata": {},
   "outputs": [],
   "source": [
    " Math.floor 는 소수값이 존재할 때 소수값을 버리는 역활을 하는 함수"
   ]
  },
  {
   "cell_type": "code",
   "execution_count": null,
   "id": "cacfe3f0",
   "metadata": {},
   "outputs": [],
   "source": [
    "function solution(n, k) {\n",
    "    var answer = 0;\n",
    "    \n",
    "    // n에서 10을 나눠 몫을 구하고, 그 몫에 음료수 값 2,000원을 곱하여 서비스 음료수 값을 구해준다.\n",
    "    let mDrink = Math.floor(n / 10) * 2000;\n",
    "    \n",
    "    // (n 인분 * 1인분의 가격) + (음료수 개수 * 음료수 하나의 가격 - 서비스로 받은 음료수 가격) 을 해주어 answer에 대입한다.\n",
    "    answer = (n * 12000) + (k * 2000 - mDrink);\n",
    "    return answer;\n",
    "}\n",
    "\n",
    "// ~~ 틸트 문법 Tilt(~) 사용시 숫자의 소수점을 버리게 되며, ~(Tilt) 연산을 두번 시킴으로써 결과적으로는 원래 상태로 되돌리게 된다.\n",
    "// 사실 몰라도 될듯\n",
    "\n",
    "function solution(n, k) {\n",
    "    k-=~~(n/10);\n",
    "    if (k < 0) k = 0;\n",
    "    return n*12000+k*2000;\n",
    "}"
   ]
  }
 ],
 "metadata": {
  "kernelspec": {
   "display_name": "JavaScript (Node.js)",
   "language": "javascript",
   "name": "javascript"
  },
  "language_info": {
   "file_extension": ".js",
   "mimetype": "application/javascript",
   "name": "javascript",
   "version": "18.12.1"
  }
 },
 "nbformat": 4,
 "nbformat_minor": 5
}
