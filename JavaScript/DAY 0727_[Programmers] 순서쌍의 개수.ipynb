{
 "cells": [
  {
   "cell_type": "markdown",
   "id": "a8157e8c",
   "metadata": {},
   "source": [
    "### 2023년 07월 27일 목요일\n",
    "---\n",
    "**Programmers - 순서쌍의 개수 (JavaScrpit)** <br />\n",
    "[문제](https://school.programmers.co.kr/learn/courses/30/lessons/120836) : \n",
    "```\n",
    "자연수 n이 매개변수로 주어질 때 두 숫자의 곱이 n인 자연수 순서쌍의 개수를 return하도록 solution 함수\n",
    "\n",
    "입출력 예 #1\n",
    "\n",
    "n이 20 이므로 곱이 20인 순서쌍은 (1, 20), (2, 10), (4, 5), (5, 4), (10, 2), (20, 1) 이므로 6을 return합니다.\n",
    "입출력 예 #2\n",
    "\n",
    "n이 100 이므로 곱이 100인 순서쌍은 (1, 100), (2, 50), (4, 25), (5, 20), (10, 10), (20, 5), (25, 4), (50, 2), (100, 1) 이므로 9를 return합니다.\n",
    "```"
   ]
  },
  {
   "cell_type": "code",
   "execution_count": null,
   "id": "d8e56f78",
   "metadata": {},
   "outputs": [],
   "source": [
    "function solution(n) {\n",
    "    // 정답 배열 생성\n",
    "    const result = []\n",
    "    // 1부터 n까지 반복하며 모든 약수를 정답 배열에 입력\n",
    "    for(let i = 1 ; i <= n ; i ++) {\n",
    "        if(n%i === 0) result.push(i)\n",
    "    }\n",
    "    // 모든 약수의 수는 순서쌍의 수와 같음\n",
    "    return result.length\n",
    "}\n"
   ]
  }
 ],
 "metadata": {
  "kernelspec": {
   "display_name": "JavaScript (Node.js)",
   "language": "javascript",
   "name": "javascript"
  },
  "language_info": {
   "file_extension": ".js",
   "mimetype": "application/javascript",
   "name": "javascript",
   "version": "18.12.1"
  }
 },
 "nbformat": 4,
 "nbformat_minor": 5
}
