{
 "cells": [
  {
   "cell_type": "markdown",
   "id": "a8157e8c",
   "metadata": {},
   "source": [
    "### 2023년 07월 25일 화요일\n",
    "---\n",
    "**Programmers - 자릿수 더하기 (JavaScrpit)** <br />\n",
    "[문제](https://school.programmers.co.kr/learn/courses/30/lessons/120906) : \n",
    "```\n",
    "정수 n이 매개변수로 주어질 때 n의 각 자리 숫자의 합을 return하도록 solution 함수\n",
    "\n",
    "입출력 예 #1\n",
    "\n",
    "1 + 2 + 3 + 4 = 10을 return합니다.\n",
    "입출력 예 #2\n",
    "\n",
    "9 + 3 + 0 + 2 + 1 + 1 = 16을 return합니다.\n",
    "```"
   ]
  },
  {
   "cell_type": "code",
   "execution_count": null,
   "id": "d8e56f78",
   "metadata": {},
   "outputs": [],
   "source": [
    "function solution(n) {\n",
    "    let answer = 0;\n",
    "    let m = String(n);\n",
    "    for(let i=0; i<m.length; i++){\n",
    "        answer += parseInt(m[i])\n",
    "    }\n",
    "    \n",
    "    return answer;\n",
    "}"
   ]
  },
  {
   "cell_type": "markdown",
   "id": "8e2e088b",
   "metadata": {},
   "source": [
    "\n",
    "- 각 자릿수를 더해주기 위해서는 **숫자인 n의 type을 string**으로 바꾸어주어야 한다. \n",
    "- String(n)을 통해 변경시켜준다\n",
    "\n",
    "- answer인 0에 자릿수를 차례로 더해준다\n",
    "- **parseInt()처리**를 해준 이유?\n",
    "- 그대로 출력해버리면 문자열로 출력된다. \n",
    "\n",
    "- 숫자로 출력해주기 위해 parseInt()를 사용해주었다. Number()를 사용해도 된다."
   ]
  },
  {
   "cell_type": "code",
   "execution_count": null,
   "id": "d4f91297",
   "metadata": {},
   "outputs": [],
   "source": [
    "// 퍼포먼스 ㄷㄷ\n",
    "\n",
    "function solution(n) {\n",
    "  return n\n",
    "    .toString()\n",
    "    .split(\"\")\n",
    "    .reduce((acc, cur) => acc + Number(cur), 0);\n",
    "}"
   ]
  }
 ],
 "metadata": {
  "kernelspec": {
   "display_name": "JavaScript (Node.js)",
   "language": "javascript",
   "name": "javascript"
  },
  "language_info": {
   "file_extension": ".js",
   "mimetype": "application/javascript",
   "name": "javascript",
   "version": "18.12.1"
  }
 },
 "nbformat": 4,
 "nbformat_minor": 5
}
