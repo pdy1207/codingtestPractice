{
 "cells": [
  {
   "cell_type": "markdown",
   "id": "a8157e8c",
   "metadata": {},
   "source": [
    "### 2023년 07월 14일 금요일\n",
    "---\n",
    "**Programmers - 배열의 유사도 (JavaScript)** <br />\n",
    "[문제](https://school.programmers.co.kr/learn/courses/30/lessons/120903) : \n",
    "```\n",
    "문자열 배열 s1과 s2가 주어질 때 같은 원소의 개수를 return하도록 solution 함수\n",
    "```"
   ]
  },
  {
   "cell_type": "code",
   "execution_count": null,
   "id": "d8e56f78",
   "metadata": {},
   "outputs": [],
   "source": [
    "function solution(s1, s2) {\n",
    "    var answer = 0;\n",
    "\n",
    "    for (var i = 0; i < s1.length; i++){\n",
    "        for (var j = 0; j < s2.length; j++){\n",
    "            if(s1[i] === s2[j]) answer++;\n",
    "        }\n",
    "    }\n",
    "    return answer;\n",
    "}"
   ]
  },
  {
   "cell_type": "code",
   "execution_count": null,
   "id": "e8116ea4",
   "metadata": {},
   "outputs": [],
   "source": [
    "function solution(s1, s2) {\n",
    "    // filter를 사용하여 s1과 s2의 값과 같은 것을 찾고 그 것의 총 개수를 answer에 반환해준다.\n",
    "    var answer =  s1.filter(s => s2.includes(s)).length;\n",
    "    \n",
    "    return answer;\n",
    "}"
   ]
  }
 ],
 "metadata": {
  "kernelspec": {
   "display_name": "JavaScript (Node.js)",
   "language": "javascript",
   "name": "javascript"
  },
  "language_info": {
   "file_extension": ".js",
   "mimetype": "application/javascript",
   "name": "javascript",
   "version": "18.12.1"
  }
 },
 "nbformat": 4,
 "nbformat_minor": 5
}
