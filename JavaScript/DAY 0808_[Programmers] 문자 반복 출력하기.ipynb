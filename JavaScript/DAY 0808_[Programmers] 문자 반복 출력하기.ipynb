{
 "cells": [
  {
   "cell_type": "markdown",
   "id": "f5c029ac",
   "metadata": {},
   "source": [
    "### 2023년 08월 08일 화요일\n",
    "\n",
    "---\n",
    "**Programmers - 문자 반복 출력하기 (JavaScript)** <br />\n",
    "[문제](https://school.programmers.co.kr/learn/courses/30/lessons/120825) \n",
    "```\n",
    "문자열 my_string과 정수 n이 매개변수로 주어질 때, my_string에 들어있는 각 문자를 n만큼 반복한 문자열을 return 하도록 solution 함수\n",
    "\n",
    "입출력 예 #1\n",
    "\n",
    "\"hello\"의 각 문자를 세 번씩 반복한 \"hhheeellllllooo\"를 return 합니다.\n",
    "```"
   ]
  },
  {
   "cell_type": "code",
   "execution_count": null,
   "id": "a9fed729",
   "metadata": {},
   "outputs": [],
   "source": [
    "function solution(my_string, n) {\n",
    "    let result = \"\";\n",
    "    for (let char of my_string) {\n",
    "        result += char.repeat(n);\n",
    "    }\n",
    "    return result;\n",
    "}"
   ]
  },
  {
   "cell_type": "code",
   "execution_count": null,
   "id": "a780128c",
   "metadata": {},
   "outputs": [],
   "source": [
    "function solution(my_string, n) {\n",
    "    return my_string.split('').map(char => char.repeat(n)).join('');\n",
    "}"
   ]
  }
 ],
 "metadata": {
  "kernelspec": {
   "display_name": "JavaScript (Node.js)",
   "language": "javascript",
   "name": "javascript"
  },
  "language_info": {
   "file_extension": ".js",
   "mimetype": "application/javascript",
   "name": "javascript",
   "version": "16.17.1"
  }
 },
 "nbformat": 4,
 "nbformat_minor": 5
}
