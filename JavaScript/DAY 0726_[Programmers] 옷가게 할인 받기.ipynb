{
 "cells": [
  {
   "cell_type": "markdown",
   "id": "f5c029ac",
   "metadata": {},
   "source": [
    "### 2023년 07월 26일 수요일\n",
    "\n",
    "---\n",
    "**Programmers - 옷가게 할인 받기 (JavaScript)** <br />\n",
    "[문제](https://school.programmers.co.kr/learn/courses/30/lessons/120818) \n",
    "```\n",
    "구매한 옷의 가격 price가 주어질 때, 지불해야 할 금액을 return 하도록 solution 함수\n",
    "\n",
    "입출력 예 #1\n",
    "\n",
    "150,000원에서 5%를 할인한 142,500원을 return 합니다.\n",
    "입출력 예 #2\n",
    "\n",
    "580,000원에서 20%를 할인한 464,000원을 return 합니다.\n",
    "```"
   ]
  },
  {
   "cell_type": "code",
   "execution_count": null,
   "id": "9dfdbc7d",
   "metadata": {},
   "outputs": [],
   "source": [
    "function solution(price) {\n",
    "    if(price >= 500000) {\n",
    "        price *= 0.8;\n",
    "    } else if(price >= 300000) {\n",
    "        price *= 0.9;\n",
    "    } else if(price >= 100000) {\n",
    "        price *= 0.95;\n",
    "    }\n",
    "    return Math.floor(price);\n",
    "    \n",
    "    return parseInt(price);\n",
    "}"
   ]
  },
  {
   "cell_type": "markdown",
   "id": "bf5a65fe",
   "metadata": {},
   "source": [
    " - Math.floor 메서드는 소수 첫째 자리에서 양수일 때처럼 내림\n",
    " - parseInt 메서드는 소수점을 버림!"
   ]
  }
 ],
 "metadata": {
  "kernelspec": {
   "display_name": "JavaScript (Node.js)",
   "language": "javascript",
   "name": "javascript"
  },
  "language_info": {
   "file_extension": ".js",
   "mimetype": "application/javascript",
   "name": "javascript",
   "version": "16.17.1"
  }
 },
 "nbformat": 4,
 "nbformat_minor": 5
}
