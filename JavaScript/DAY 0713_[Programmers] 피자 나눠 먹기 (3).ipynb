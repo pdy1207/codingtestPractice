{
 "cells": [
  {
   "cell_type": "markdown",
   "id": "71e5ac24",
   "metadata": {},
   "source": [
    "### 2023년 07월 13일 목요일\n",
    "---\n",
    "**Programmers - 피자 나눠 먹기 (3) (JavaScript)** <br />\n",
    "[문제](https://school.programmers.co.kr/learn/courses/30/lessons/120816?language=javascript) :  \n",
    "```\n",
    "피자 조각 수 slice와 피자를 먹는 사람의 수 n이 매개변수로 주어질 때, n명의 사람이 최소 한 조각 이상 피자를 먹으려면 최소 몇 판의 피자를 시켜야 하는지를 return 하도록 solution 함수를 완성해보세요.\n",
    "\n",
    "입출력 예 #1\n",
    "\n",
    "10명이 7조각으로 자른 피자를 한 조각 이상씩 먹으려면 최소 2판을 시켜야 합니다.\n",
    "입출력 예 #2\n",
    "\n",
    "12명이 4조각으로 자른 피자를 한 조각 이상씩 먹으려면 최소 3판을 시켜야 합니다.\n",
    "```"
   ]
  },
  {
   "cell_type": "code",
   "execution_count": null,
   "id": "3a52ab29",
   "metadata": {},
   "outputs": [],
   "source": [
    "  Math.ceil 은 소수값이 존재할 때 값을 올리는 역활을 하는 함수"
   ]
  },
  {
   "cell_type": "code",
   "execution_count": null,
   "id": "9ceab040",
   "metadata": {},
   "outputs": [],
   "source": [
    "function solution(slice, n) {\n",
    "    var answer = 0;\n",
    "    answer = Math.ceil (n/slice)\n",
    "   \n",
    "    return answer;\n",
    "}"
   ]
  }
 ],
 "metadata": {
  "kernelspec": {
   "display_name": "JavaScript (Node.js)",
   "language": "javascript",
   "name": "javascript"
  },
  "language_info": {
   "file_extension": ".js",
   "mimetype": "application/javascript",
   "name": "javascript",
   "version": "18.12.1"
  }
 },
 "nbformat": 4,
 "nbformat_minor": 5
}
