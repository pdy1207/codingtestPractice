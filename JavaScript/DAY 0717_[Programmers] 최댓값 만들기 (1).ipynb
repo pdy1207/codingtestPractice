{
 "cells": [
  {
   "cell_type": "markdown",
   "id": "a8157e8c",
   "metadata": {},
   "source": [
    "### 2023년 07월 17일 월요일\n",
    "---\n",
    "**Programmers - 최댓값 만들기(1) (JavaScript)** <br />\n",
    "[문제](https://school.programmers.co.kr/learn/courses/30/lessons/120847?language=javascript) : \n",
    "```\n",
    "numbers의 원소 중 두 개를 곱해 만들 수 있는 최댓값을 return하도록 solution 함수\n",
    "\n",
    "입출력 예 설명\n",
    "입출력 예 #1\n",
    "\n",
    "두 수의 곱중 최댓값은 4 * 5 = 20 입니다.\n",
    "입출력 예 #1\n",
    "\n",
    "두 수의 곱중 최댓값은 31 * 24 = 744 입니다.\n",
    "```"
   ]
  },
  {
   "cell_type": "code",
   "execution_count": null,
   "id": "d8e56f78",
   "metadata": {},
   "outputs": [],
   "source": [
    "function solution(numbers) {\n",
    "    \n",
    "    let array = numbers.sort((a,b) => b-a);\n",
    "    \n",
    "    return array[0] * array[1];\n",
    "}"
   ]
  },
  {
   "cell_type": "code",
   "execution_count": 3,
   "id": "34bb11bc",
   "metadata": {},
   "outputs": [
    {
     "name": "stdout",
     "output_type": "stream",
     "text": [
      "첫번째 입니다.1,2,3,4,5\n",
      "두번째 입니다.5,4,3,2,1\n"
     ]
    },
    {
     "data": {
      "text/plain": [
       "undefined"
      ]
     },
     "execution_count": 3,
     "metadata": {},
     "output_type": "execute_result"
    }
   ],
   "source": [
    "var myArray = [5,3,4,1,2];\n",
    "\n",
    "myArray.sort(function (a, b) { return a - b });\n",
    "\n",
    "    console.log(\"첫번째 입니다.\" + myArray);\n",
    "\n",
    "myArray.sort(function (a, b) { return b - a });\n",
    "\n",
    "    console.log(\"두번째 입니다.\" + myArray);"
   ]
  }
 ],
 "metadata": {
  "kernelspec": {
   "display_name": "JavaScript (Node.js)",
   "language": "javascript",
   "name": "javascript"
  },
  "language_info": {
   "file_extension": ".js",
   "mimetype": "application/javascript",
   "name": "javascript",
   "version": "18.12.1"
  }
 },
 "nbformat": 4,
 "nbformat_minor": 5
}
