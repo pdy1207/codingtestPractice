{
 "cells": [
  {
   "cell_type": "markdown",
   "id": "bdf80cf0",
   "metadata": {},
   "source": [
    "### 2023년 07월 13일 목요일\n",
    "\n",
    "\n",
    "---\n",
    "**Programmers - 나이출력 (JavaScript)** <br />\n",
    "[문제](https://school.programmers.co.kr/learn/courses/30/lessons/120820?language=javascript) :  나이 age가 주어질 때, 2022년을 기준 출생 연도를 return 하는 solution 함수\n"
   ]
  },
  {
   "cell_type": "code",
   "execution_count": null,
   "id": "b5ec5a83",
   "metadata": {},
   "outputs": [],
   "source": [
    "function solution(age) {\n",
    "    return 2023 - age\n",
    "}"
   ]
  }
 ],
 "metadata": {
  "kernelspec": {
   "display_name": "JavaScript (Node.js)",
   "language": "javascript",
   "name": "javascript"
  },
  "language_info": {
   "file_extension": ".js",
   "mimetype": "application/javascript",
   "name": "javascript",
   "version": "18.12.1"
  }
 },
 "nbformat": 4,
 "nbformat_minor": 5
}
