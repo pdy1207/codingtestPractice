{
 "cells": [
  {
   "cell_type": "markdown",
   "id": "a8157e8c",
   "metadata": {},
   "source": [
    "### 2023년 08월 09일 수요일\n",
    "---\n",
    "**Programmers - 두 수의 나눗셈 (JAVA)** <br />\n",
    "[문제](https://school.programmers.co.kr/learn/courses/30/lessons/120806) : \n",
    "```\n",
    "num1을 num2로 나눈 값에 1,000을 곱한 후 정수 부분을 return 하도록 soltuion 함수\n",
    "\n",
    "입출력 예 #1\n",
    "\n",
    "num1이 3, num2가 2이므로 3 / 2 = 1.5에 1,000을 곱하면 1500이 됩니다.\n",
    "입출력 예 #2\n",
    "\n",
    "num1이 7, num2가 3이므로 7 / 3 = 2.33333...에 1,000을 곱하면 2333.3333.... 이 되며, 정수 부분은 2333입니다.\n",
    "입출력 예 #3\n",
    "\n",
    "num1이 1, num2가 16이므로 1 / 16 = 0.0625에 1,000을 곱하면 62.5가 되며, 정수 부분은 62입니다.\n",
    "```"
   ]
  },
  {
   "cell_type": "code",
   "execution_count": null,
   "id": "d8e56f78",
   "metadata": {},
   "outputs": [],
   "source": [
    "class Solution {\n",
    "    public int solution(int num1, int num2) {\n",
    "        double answer = 0;\n",
    "        answer = (double)num1/num2 * 1000;\n",
    "        \n",
    "        return (int)answer;\n",
    "    }\n",
    "}\n",
    "// 형변환이 이루어져야합니다"
   ]
  },
  {
   "cell_type": "code",
   "execution_count": null,
   "id": "bb665f34",
   "metadata": {},
   "outputs": [],
   "source": [
    "class Solution {\n",
    "    public int solution(int num1, int num2) {\n",
    "        int answer = 0;\n",
    "        return num1 * 1000 / num2;\n",
    "    }\n",
    "}\n",
    "// 간단한 코드"
   ]
  }
 ],
 "metadata": {
  "kernelspec": {
   "display_name": "JavaScript (Node.js)",
   "language": "javascript",
   "name": "javascript"
  },
  "language_info": {
   "file_extension": ".js",
   "mimetype": "application/javascript",
   "name": "javascript",
   "version": "18.12.1"
  }
 },
 "nbformat": 4,
 "nbformat_minor": 5
}
