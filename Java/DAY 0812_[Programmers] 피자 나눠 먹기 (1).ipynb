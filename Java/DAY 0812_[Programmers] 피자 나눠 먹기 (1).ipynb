{
 "cells": [
  {
   "cell_type": "markdown",
   "id": "f5c029ac",
   "metadata": {},
   "source": [
    "### 2023년 08월 12일 토요일\n",
    "\n",
    "---\n",
    "**Programmers - 피자 나눠 먹기(1) (JAVA)** <br />\n",
    "[문제](https://school.programmers.co.kr/learn/courses/30/lessons/120814) \n",
    "```\n",
    "모든 사람이 피자를 한 조각 이상 먹기 위해 필요한 피자의 수를 return 하는 solution 함수\n",
    "\n",
    "입출력 예 설명\n",
    "입출력 예 #1\n",
    "\n",
    "7명이 최소 한 조각씩 먹기 위해서 최소 1판이 필요합니다.\n",
    "입출력 예 #2\n",
    "\n",
    "1명은 최소 한 조각을 먹기 위해 1판이 필요합니다.\n",
    "입출력 예 #3\n",
    "\n",
    "15명이 최소 한 조각씩 먹기 위해서 최소 3판이 필요합니다.\n",
    "```"
   ]
  },
  {
   "cell_type": "code",
   "execution_count": null,
   "id": "a9fed729",
   "metadata": {},
   "outputs": [],
   "source": [
    "class Solution {\n",
    "    public int solution(int n) {\n",
    "        int answer = 0;\n",
    "        \n",
    "            if(n % 7 == 0){\n",
    "                answer = n / 7;\n",
    "            } else {\n",
    "                answer = n / 7 + 1;\n",
    "            }\n",
    "            \n",
    "        return answer;\n",
    "    }\n",
    "}"
   ]
  }
 ],
 "metadata": {
  "kernelspec": {
   "display_name": "JavaScript (Node.js)",
   "language": "javascript",
   "name": "javascript"
  },
  "language_info": {
   "file_extension": ".js",
   "mimetype": "application/javascript",
   "name": "javascript",
   "version": "16.17.1"
  }
 },
 "nbformat": 4,
 "nbformat_minor": 5
}
