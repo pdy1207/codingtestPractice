{
 "cells": [
  {
   "cell_type": "markdown",
   "id": "f5c029ac",
   "metadata": {},
   "source": [
    "### 2023년 08월 12일 토요일\n",
    "\n",
    "---\n",
    "**Programmers - 양꼬치 (JAVA)** <br />\n",
    "[문제](https://school.programmers.co.kr/learn/courses/30/lessons/120830) \n",
    "```\n",
    "머쓱이네 양꼬치 가게는 10인분을 먹으면 음료수 하나를 서비스로 줍니다. 양꼬치는 1인분에 12,000원, 음료수는 2,000원입니다. 정수 n과 k가 매개변수로 주어졌을 때, 양꼬치 n인분과 음료수 k개를 먹었다면 총얼마를 지불해야 하는지 return 하도록 solution 함수를 완성해보세요.\n",
    "\n",
    "입출력 예 설명\n",
    "입출력 예 #1\n",
    "\n",
    "10인분을 시켜 서비스로 음료수를 하나 받아 총 10 * 12000 + 3 * 2000 - 1 * 2000 = 124,000원입니다.\n",
    "입출력 예 #2\n",
    "\n",
    "64인분을 시켜 서비스로 음료수를 6개 받아 총 64 * 12000 + 6 * 2000 - 6 * 2000 =768,000원입니다.\n",
    "```"
   ]
  },
  {
   "cell_type": "code",
   "execution_count": null,
   "id": "a9fed729",
   "metadata": {},
   "outputs": [],
   "source": [
    "class Solution{\n",
    "\tint solution(int n, int k) {\n",
    "\t\tint answer = 0;\n",
    "\t\t\tanswer=(n*12000)+((k-(n/10))*2000);\n",
    "\t\treturn answer;\n",
    "\t}\n",
    "}\n",
    "\n",
    "// 음료수 값은 먹은 음료수에서 (먹은 꼬치 수 / 10)를 빼야하기 때문에\n",
    "// 먹은 꼬치 수 n에 12000을 곱한 값에 (먹은 음료수 - (먹은 꼬치 수 / 10))에 2000원을 곱한값을 더해준다."
   ]
  }
 ],
 "metadata": {
  "kernelspec": {
   "display_name": "JavaScript (Node.js)",
   "language": "javascript",
   "name": "javascript"
  },
  "language_info": {
   "file_extension": ".js",
   "mimetype": "application/javascript",
   "name": "javascript",
   "version": "16.17.1"
  }
 },
 "nbformat": 4,
 "nbformat_minor": 5
}
