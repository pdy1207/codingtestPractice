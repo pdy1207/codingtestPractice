{
 "cells": [
  {
   "cell_type": "markdown",
   "id": "a8157e8c",
   "metadata": {},
   "source": [
    "### 2023년 08월 10일 목요일\n",
    "---\n",
    "**Programmers - 각도기 (JAVA)** <br />\n",
    "[문제](https://school.programmers.co.kr/learn/courses/30/lessons/120829#qna) : \n",
    "```\n",
    "각 angle이 매개변수로 주어질 때 예각일 때 1, 직각일 때 2, 둔각일 때 3, 평각일 때 4를 return하도록 solution 함수를 완성해주세요.\n",
    "\n",
    "예각 : 0 < angle < 90\n",
    "직각 : angle = 90\n",
    "둔각 : 90 < angle < 180\n",
    "평각 : angle = 180\n",
    "```"
   ]
  },
  {
   "cell_type": "code",
   "execution_count": null,
   "id": "14983421",
   "metadata": {},
   "outputs": [],
   "source": [
    "class Solution {\n",
    "    public int solution(int angle) {\n",
    "        int answer = 0;\n",
    "        if(angle < 90){\n",
    "            return answer = 1;\n",
    "        } else if (90 < angle && angle < 180){\n",
    "            return answer = 3;\n",
    "        } else if (angle == 180) {\n",
    "            return answer = 4;\n",
    "        } else if (angle == 90){\n",
    "            return answer = 2;\n",
    "        }\n",
    "        return answer;\n",
    "    }\n",
    "}"
   ]
  },
  {
   "cell_type": "code",
   "execution_count": null,
   "id": "b9ccead7",
   "metadata": {},
   "outputs": [],
   "source": [
    "class Solution {\n",
    "    public int solution(int angle) {\n",
    "        if (angle > 0 && angle < 90) return 1;\n",
    "        else if (angle == 90) return 2;\n",
    "        else if (angle > 90 && angle < 180) return 3;\n",
    "        else return 4;\n",
    "    }\n",
    "} // 깔끔하게 정리하기!"
   ]
  },
  {
   "cell_type": "markdown",
   "id": "20f7021f",
   "metadata": {},
   "source": [
    "```\n",
    "&은 앞의 조건식이 false가 나와도 나머지 조건식을 모두 확인하고 \n",
    "&&은 앞의 조건식이 false가 나오면 뒤의조건식은 확인하지 않고 넘어갑니다. \n",
    "이 문제에서는 차이가 '약간 더 빠르게 결과를 반환하지 않을까' \n",
    "정도이지만 어떤 상수를 변수로 나누어야 하는 경우에 &&을 사용하면 에러를 막을 수 있습니다.\n",
    "```"
   ]
  }
 ],
 "metadata": {
  "kernelspec": {
   "display_name": "JavaScript (Node.js)",
   "language": "javascript",
   "name": "javascript"
  },
  "language_info": {
   "file_extension": ".js",
   "mimetype": "application/javascript",
   "name": "javascript",
   "version": "18.12.1"
  }
 },
 "nbformat": 4,
 "nbformat_minor": 5
}
