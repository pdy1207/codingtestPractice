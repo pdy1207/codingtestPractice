{
 "cells": [
  {
   "cell_type": "markdown",
   "id": "f5c029ac",
   "metadata": {},
   "source": [
    "### 2023년 08월 12일 토요일\n",
    "\n",
    "---\n",
    "**Programmers - 배열의 평균값 (JAVA)** <br />\n",
    "[문제](https://school.programmers.co.kr/learn/courses/30/lessons/120817?language=java) \n",
    "```\n",
    "numbers의 원소의 평균값을 return하도록 solution 함수\n",
    "\n",
    "입출력 예 #1\n",
    "\n",
    "numbers의 원소들의 평균 값은 5.5입니다.\n",
    "입출력 예 #2\n",
    "\n",
    "numbers의 원소들의 평균 값은 94.0입니다.\n",
    "```"
   ]
  },
  {
   "cell_type": "code",
   "execution_count": null,
   "id": "a9fed729",
   "metadata": {},
   "outputs": [],
   "source": [
    "function solution(my_string, letter) {\n",
    "    const answer = my_string.split(letter).join('');\n",
    "    return answer;\n",
    "}"
   ]
  },
  {
   "cell_type": "code",
   "execution_count": null,
   "id": "a780128c",
   "metadata": {},
   "outputs": [],
   "source": [
    "class Solution {\n",
    "    public double solution(int[] numbers) {\n",
    "        double answer = 0;\n",
    "        int avg = 0;\n",
    "        for(int i=0; i<numbers.length; i++){\n",
    "            avg +=numbers[i];\n",
    "        }\n",
    "        answer = (double) avg / (numbers.length);\n",
    "        return answer;\n",
    "    }\n",
    "}"
   ]
  },
  {
   "cell_type": "code",
   "execution_count": null,
   "id": "b9226b60",
   "metadata": {},
   "outputs": [],
   "source": [
    "실수를 표현하기 위한 자료형\n",
    "- float\n",
    "- double\n",
    "\n",
    "데이터 정확도를 높이려면 float보다 double이 선호된다."
   ]
  },
  {
   "cell_type": "code",
   "execution_count": null,
   "id": "78771bfd",
   "metadata": {},
   "outputs": [],
   "source": [
    "// 긴 실수를 저장 (정밀도 테스트)\n",
    "double var3 = 3.14159265358979;\n",
    "float var4 = 3.14159265358979f;\n",
    "\n",
    "System.out.println(\"var3 : \" + var3); // var3 : 3.14159265358979 - 정확히 표현\n",
    "System.out.println(\"var4 : \" + var4); // var4 : 3.1415927 - 유효자리 제한때문에 잘리고 반올림 됨 (정밀도 ↓)"
   ]
  }
 ],
 "metadata": {
  "kernelspec": {
   "display_name": "JavaScript (Node.js)",
   "language": "javascript",
   "name": "javascript"
  },
  "language_info": {
   "file_extension": ".js",
   "mimetype": "application/javascript",
   "name": "javascript",
   "version": "16.17.1"
  }
 },
 "nbformat": 4,
 "nbformat_minor": 5
}
