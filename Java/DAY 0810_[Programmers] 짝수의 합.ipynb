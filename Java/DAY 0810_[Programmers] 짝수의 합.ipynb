{
 "cells": [
  {
   "cell_type": "markdown",
   "id": "a8157e8c",
   "metadata": {},
   "source": [
    "### 2023년 08월 10일 목요일\n",
    "---\n",
    "**Programmers - 짝수의 합 (JAVA)** <br />\n",
    "[문제](https://school.programmers.co.kr/learn/courses/30/lessons/120831) : \n",
    "```\n",
    "입출력 예 #1\n",
    "\n",
    "n이 10이므로 2 + 4 + 6 + 8 + 10 = 30을 return 합니다.\n",
    "입출력 예 #2\n",
    "\n",
    "n이 4이므로 2 + 4 = 6을 return 합니다.\n",
    "```"
   ]
  },
  {
   "cell_type": "code",
   "execution_count": null,
   "id": "14983421",
   "metadata": {},
   "outputs": [],
   "source": [
    "class Solution {\n",
    "    public int solution(int n) {\n",
    "        int answer = 0;\n",
    "        for (int i =0; i<=n; i++){\n",
    "            if(i%2 == 0){\n",
    "                answer = answer + i;\n",
    "            }\n",
    "        }\n",
    "        return answer;\n",
    "    }\n",
    "}"
   ]
  }
 ],
 "metadata": {
  "kernelspec": {
   "display_name": "JavaScript (Node.js)",
   "language": "javascript",
   "name": "javascript"
  },
  "language_info": {
   "file_extension": ".js",
   "mimetype": "application/javascript",
   "name": "javascript",
   "version": "18.12.1"
  }
 },
 "nbformat": 4,
 "nbformat_minor": 5
}
