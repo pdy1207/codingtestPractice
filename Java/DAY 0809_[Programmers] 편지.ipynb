{
 "cells": [
  {
   "cell_type": "markdown",
   "id": "a8157e8c",
   "metadata": {},
   "source": [
    "### 2023년 08월 09일 수요일\n",
    "---\n",
    "**Programmers - 편지 (JAVA)** <br />\n",
    "[문제](https://school.programmers.co.kr/learn/courses/30/lessons/120898) : \n",
    "```\n",
    "축하 문구 message를 적기 위해 필요한 편지지의 최소 가로길이를 return 하도록 solution 함수\n",
    "\n",
    "입출력 예 설명\n",
    "입출력 예 #1\n",
    "\n",
    "message의 글자 수가 15개로 최소 가로 30cm의 편지지가 필요합니다.\n",
    "입출력 예 #2\n",
    "\n",
    "message의 글자 수가 11개로 최소 가로 22cm의 편지지가 필요합니다.\n",
    "```"
   ]
  },
  {
   "cell_type": "code",
   "execution_count": null,
   "id": "d8e56f78",
   "metadata": {},
   "outputs": [],
   "source": [
    "class Solution {\n",
    "    public int solution(String message) {\n",
    "        int answer = 0;\n",
    "\n",
    "        answer = message.length() * 2;\n",
    "        return answer;\n",
    "    }\n",
    "}"
   ]
  },
  {
   "cell_type": "markdown",
   "id": "7d68b853",
   "metadata": {},
   "source": [
    "```\n",
    "글자 한 자가 가로 2cm 크기이기 때문에 편지지의 최소 가로길이는 messgae의 전체 길이에 두배를 곱해주면 됩니다.\n",
    "따라서 message.length() * 2를 하여 answer에 대입하면 됩니다.\n",
    "\n",
    "** 문자의 길이를 구할 때는 'length()'를 사용하고, 배열의 길이를 구할 때는 'length'를 사용합니다.\n",
    "```"
   ]
  }
 ],
 "metadata": {
  "kernelspec": {
   "display_name": "JavaScript (Node.js)",
   "language": "javascript",
   "name": "javascript"
  },
  "language_info": {
   "file_extension": ".js",
   "mimetype": "application/javascript",
   "name": "javascript",
   "version": "18.12.1"
  }
 },
 "nbformat": 4,
 "nbformat_minor": 5
}
