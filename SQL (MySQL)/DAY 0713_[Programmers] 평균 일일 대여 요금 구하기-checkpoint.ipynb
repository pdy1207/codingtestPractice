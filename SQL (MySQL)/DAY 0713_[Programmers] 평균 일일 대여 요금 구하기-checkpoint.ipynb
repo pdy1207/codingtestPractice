{
 "cells": [
  {
   "cell_type": "markdown",
   "id": "a8157e8c",
   "metadata": {},
   "source": [
    "### 2023년 07월 14일 금요일\n",
    "---\n",
    "**Programmers - 평균 일일 대여 요금 구하기 (MySQL)** <br />\n",
    "[문제](https://school.programmers.co.kr/learn/courses/30/lessons/151136) : \n",
    "```\n",
    "CAR_RENTAL_COMPANY_CAR 테이블에서 자동차 종류가 'SUV'인 자동차들의 평균 일일 대여 요금을 출력하는 SQL문을 작성해주세요. 이때 평균 일일 대여 요금은 소수 첫 번째 자리에서 반올림하고, 컬럼명은 AVERAGE_FEE 로 지정\n",
    "```"
   ]
  },
  {
   "cell_type": "code",
   "execution_count": null,
   "id": "d8e56f78",
   "metadata": {},
   "outputs": [],
   "source": [
    "SELECT\n",
    "     ROUND(AVG(DAILY_FEE)) AS AVERAGE_FEE\n",
    "FROM \n",
    "    CAR_RENTAL_COMPANY_CAR \n",
    "WHERE \n",
    "    CAR_TYPE = 'SUV'"
   ]
  },
  {
   "cell_type": "markdown",
   "id": "08f7f3bc",
   "metadata": {},
   "source": [
    "#### NOTE \n",
    "\n",
    "- ROUND 함수 : 반올림\n",
    "    - ROUND(컬럼명) - 소수점 1번째 자리에서 반올림 (123.7 → 124)\n",
    "    - ROUND(컬럼명, 1) - 출력할 소수점 자리 지정 (123.75 → 123.8)\n",
    "- ROUND(컬럼명, -1) - 10단위로 반올림 (123 → 120)\n",
    "    - TRUNCATE 함수 : 버림\n",
    "    - TRUNCATE(컬럼명, 1) - 반드시 버릴 자릿수 명시해야 함\n",
    "- FLOOR 함수 : 버림\n",
    "    - FLOOR(컬럼명) - 소수점 아래 버림"
   ]
  },
  {
   "cell_type": "code",
   "execution_count": null,
   "id": "b919e831",
   "metadata": {},
   "outputs": [],
   "source": []
  }
 ],
 "metadata": {
  "kernelspec": {
   "display_name": "JavaScript (Node.js)",
   "language": "javascript",
   "name": "javascript"
  },
  "language_info": {
   "file_extension": ".js",
   "mimetype": "application/javascript",
   "name": "javascript",
   "version": "18.12.1"
  }
 },
 "nbformat": 4,
 "nbformat_minor": 5
}
