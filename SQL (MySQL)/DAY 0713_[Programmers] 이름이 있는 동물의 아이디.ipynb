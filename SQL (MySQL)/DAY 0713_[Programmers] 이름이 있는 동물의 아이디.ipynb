{
 "cells": [
  {
   "cell_type": "markdown",
   "id": "0c9b9cc4",
   "metadata": {},
   "source": [
    "### 2023년 07월 13일 목요일\n",
    "\n",
    "---\n",
    "**Programmers - 이름이 있는 동물의 아이디 (MySQL)** <br />\n",
    "[문제](https://school.programmers.co.kr/learn/courses/30/lessons/59407) : 이름이 있는 동물의 ID를 조회하는 SQL 문 <br /> *ID는 오름차순 정렬*"
   ]
  },
  {
   "cell_type": "code",
   "execution_count": null,
   "id": "ec078978",
   "metadata": {},
   "outputs": [],
   "source": [
    "SELECT \n",
    "    ANIMAL_ID\n",
    "FROM \n",
    "    ANIMAL_INS \n",
    "WHERE \n",
    "    NAME IS NOT NULL\n",
    "ORDER BY\n",
    "    ANIMAL_ID"
   ]
  }
 ],
 "metadata": {
  "kernelspec": {
   "display_name": "JavaScript (Node.js)",
   "language": "javascript",
   "name": "javascript"
  },
  "language_info": {
   "file_extension": ".js",
   "mimetype": "application/javascript",
   "name": "javascript",
   "version": "18.12.1"
  }
 },
 "nbformat": 4,
 "nbformat_minor": 5
}
