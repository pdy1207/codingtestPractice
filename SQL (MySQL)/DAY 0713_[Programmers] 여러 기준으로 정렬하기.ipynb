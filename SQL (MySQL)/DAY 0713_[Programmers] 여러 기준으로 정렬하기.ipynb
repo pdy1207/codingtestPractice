{
 "cells": [
  {
   "cell_type": "markdown",
   "id": "0c9b9cc4",
   "metadata": {},
   "source": [
    "### 2023년 07월 13일 목요일\n",
    "\n",
    "---\n",
    "**Programmers - 여러 기준으로 정렬하기 (MySQL)** <br />\n",
    "[문제](https://school.programmers.co.kr/learn/courses/30/lessons/59404) : 모든 동물의 아이디와 이름, 보호 시작일을 이름 순으로 조회하는 SQL문 <br />*이름이 같은 동물 중에서는 보호를 나중에 시작한 동물을 먼저 보여줘야 합니다.*"
   ]
  },
  {
   "cell_type": "code",
   "execution_count": null,
   "id": "ec078978",
   "metadata": {},
   "outputs": [],
   "source": [
    "SELECT \n",
    "    ANIMAL_ID\n",
    "    ,NAME\n",
    "    ,DATETIME\n",
    "FROM \n",
    "    ANIMAL_INS \n",
    "ORDER BY NAME,DATETIME DESC"
   ]
  }
 ],
 "metadata": {
  "kernelspec": {
   "display_name": "JavaScript (Node.js)",
   "language": "javascript",
   "name": "javascript"
  },
  "language_info": {
   "file_extension": ".js",
   "mimetype": "application/javascript",
   "name": "javascript",
   "version": "18.12.1"
  }
 },
 "nbformat": 4,
 "nbformat_minor": 5
}
