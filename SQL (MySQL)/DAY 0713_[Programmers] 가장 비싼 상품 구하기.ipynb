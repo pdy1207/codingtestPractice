{
 "cells": [
  {
   "cell_type": "markdown",
   "id": "2ab13b37",
   "metadata": {},
   "source": [
    "### 2023년 07월 13일 목요일\n",
    "---\n",
    "**Programmers - 가장 비싼 상품 구하기 (MySQL)** <br />\n",
    "[문제](https://school.programmers.co.kr/learn/courses/30/lessons/131697) :  가장 높은 판매가를 출력하는 SQL문 <br />\n",
    "*컬럼명은 MAX_PRICE*"
   ]
  },
  {
   "cell_type": "code",
   "execution_count": null,
   "id": "2fe6c1c8",
   "metadata": {},
   "outputs": [],
   "source": [
    "SELECT \n",
    "    MAX(PRICE) AS MAX_PRICE\n",
    "FROM \n",
    "    PRODUCT"
   ]
  },
  {
   "cell_type": "code",
   "execution_count": null,
   "id": "736d25a9",
   "metadata": {},
   "outputs": [],
   "source": [
    "최대값, 최소값을 가져오고 싶은 경우가 있습니다.\n",
    "\n",
    "이 때 사용하는 함수가 MAX, MIN 함수입니다."
   ]
  }
 ],
 "metadata": {
  "kernelspec": {
   "display_name": "Python 3 (ipykernel)",
   "language": "python",
   "name": "python3"
  },
  "language_info": {
   "codemirror_mode": {
    "name": "ipython",
    "version": 3
   },
   "file_extension": ".py",
   "mimetype": "text/x-python",
   "name": "python",
   "nbconvert_exporter": "python",
   "pygments_lexer": "ipython3",
   "version": "3.11.3"
  }
 },
 "nbformat": 4,
 "nbformat_minor": 5
}
