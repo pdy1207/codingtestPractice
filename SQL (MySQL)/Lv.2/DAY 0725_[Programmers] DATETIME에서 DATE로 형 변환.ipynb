{
 "cells": [
  {
   "cell_type": "markdown",
   "id": "a8157e8c",
   "metadata": {},
   "source": [
    "### 2023년 07월 25일 화요일\n",
    "---\n",
    "**Programmers - DATETIME에서 DATE로 형 변환 (MySQL)** <br />\n",
    "[문제](https://school.programmers.co.kr/learn/courses/30/lessons/59414) : \n",
    "```\n",
    "ANIMAL_INS 테이블에 등록된 모든 레코드에 대해, 각 동물의 아이디와 이름, 들어온 날짜1를 조회하는 SQL문을 작성해주세요. 이때 결과는 아이디 순\n",
    "```"
   ]
  },
  {
   "cell_type": "code",
   "execution_count": null,
   "id": "d8e56f78",
   "metadata": {},
   "outputs": [],
   "source": [
    "SELECT \n",
    "    ANIMAL_ID\n",
    "    ,NAME\n",
    "    ,DATE_FORMAT(DATETIME,'%Y-%m-%d') AS 날짜\n",
    "FROM \n",
    "    ANIMAL_INS \n",
    "ORDER BY \n",
    "    ANIMAL_ID"
   ]
  }
 ],
 "metadata": {
  "kernelspec": {
   "display_name": "JavaScript (Node.js)",
   "language": "javascript",
   "name": "javascript"
  },
  "language_info": {
   "file_extension": ".js",
   "mimetype": "application/javascript",
   "name": "javascript",
   "version": "18.12.1"
  }
 },
 "nbformat": 4,
 "nbformat_minor": 5
}
