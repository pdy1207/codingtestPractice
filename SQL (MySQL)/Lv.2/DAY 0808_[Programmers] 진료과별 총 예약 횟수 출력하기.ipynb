{
 "cells": [
  {
   "cell_type": "markdown",
   "id": "f5c029ac",
   "metadata": {},
   "source": [
    "### 2023년 08월 08일 화요일\n",
    "\n",
    "---\n",
    "**Programmers - 진료과별 총 예약 횟수 출력하기 (MySQL)** <br />\n",
    "[문제](https://school.programmers.co.kr/learn/courses/30/lessons/132202) \n",
    "```\n",
    " APPOINTMENT 테이블에서 2022년 5월에 예약한 환자 수를 진료과코드 별로 조회하는 SQL문을 작성해주세요. 이때, 컬럼명은 '진료과 코드', '5월예약건수'로 지정해주시고 결과는 진료과별 예약한 환자 수를 기준으로 오름차순 정렬하고, 예약한 환자 수가 같다면 진료과 코드를 기준으로 오름차순 정렬\n",
    "```"
   ]
  },
  {
   "cell_type": "code",
   "execution_count": null,
   "id": "58df2eab",
   "metadata": {},
   "outputs": [],
   "source": [
    "SELECT\n",
    "    ANIMAL_TYPE\n",
    "    ,IFNULL(NAME, 'No name') AS NAME\n",
    "    ,SEX_UPON_INTAKE\n",
    "FROM \n",
    "    ANIMAL_INS \n",
    "ORDER BY ANIMAL_ID    "
   ]
  },
  {
   "cell_type": "markdown",
   "id": "b4f8c8ce",
   "metadata": {},
   "source": [
    "```\n",
    "SELECT CustomerID, SUM(OrderAmount) AS TotalAmount\n",
    "FROM Orders\n",
    "GROUP BY CustomerID;\n",
    "위의 쿼리에서:\n",
    "\n",
    "SELECT CustomerID, SUM(OrderAmount) AS TotalAmount: 'CustomerID' 컬럼과 주문 총액을 합한 값을 'TotalAmount'라는 별칭으로 선택합니다.\n",
    "\n",
    "FROM Orders: 'Orders' 테이블에서 데이터를 가져옵니다.\n",
    "\n",
    "GROUP BY CustomerID: 'CustomerID' 컬럼 값을 기준으로 데이터를 그룹화합니다. 즉, 동일한 고객별로 데이터가 하나의 그룹으로 묶입니다.\n",
    "```"
   ]
  }
 ],
 "metadata": {
  "kernelspec": {
   "display_name": "JavaScript (Node.js)",
   "language": "javascript",
   "name": "javascript"
  },
  "language_info": {
   "file_extension": ".js",
   "mimetype": "application/javascript",
   "name": "javascript",
   "version": "16.17.1"
  }
 },
 "nbformat": 4,
 "nbformat_minor": 5
}
