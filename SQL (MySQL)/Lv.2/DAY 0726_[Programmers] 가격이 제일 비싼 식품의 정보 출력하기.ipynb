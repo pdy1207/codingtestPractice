{
 "cells": [
  {
   "cell_type": "markdown",
   "id": "f5c029ac",
   "metadata": {},
   "source": [
    "### 2023년 07월 26일 수요일\n",
    "\n",
    "---\n",
    "**Programmers - 가격이 제일 비싼 식품의 정보 출력하기 (MySQL)** <br />\n",
    "[문제](https://school.programmers.co.kr/learn/courses/30/lessons/131115) \n",
    "```\n",
    " FOOD_PRODUCT 테이블에서 가격이 제일 비싼 식품의 식품 ID, 식품 이름, 식품 코드, 식품분류, 식품 가격을 조회하는 SQL문\n",
    "```"
   ]
  },
  {
   "cell_type": "code",
   "execution_count": null,
   "id": "58df2eab",
   "metadata": {},
   "outputs": [],
   "source": [
    "SELECT \n",
    "    *\n",
    "FROM \n",
    "    FOOD_PRODUCT\n",
    "ORDER BY \n",
    "    PRICE DESC\n",
    "LIMIT 1"
   ]
  },
  {
   "cell_type": "code",
   "execution_count": null,
   "id": "668a2c9b",
   "metadata": {},
   "outputs": [],
   "source": [
    "SELECT PRODUCT_ID, PRODUCT_NAME, PRODUCT_CD, CATEGORY, \n",
    "        MAX(PRICE) AS PRICE\n",
    "FROM FOOD_PRODUCT\n",
    "\n",
    "-- 해당 코드가 틀린 이유는 \n",
    "\n",
    "상품의 속성들 중 PRICE에 대한 기준밖에 없기 때문에 다른 상품이 나타나게 되는 것이기 때문"
   ]
  }
 ],
 "metadata": {
  "kernelspec": {
   "display_name": "JavaScript (Node.js)",
   "language": "javascript",
   "name": "javascript"
  },
  "language_info": {
   "file_extension": ".js",
   "mimetype": "application/javascript",
   "name": "javascript",
   "version": "16.17.1"
  }
 },
 "nbformat": 4,
 "nbformat_minor": 5
}
