{
 "cells": [
  {
   "cell_type": "markdown",
   "id": "a8157e8c",
   "metadata": {},
   "source": [
    "### 2023년 08월 16일 수요일\n",
    "---\n",
    "**Programmers - 상품 별 오프라인 매출 구하기 (MySQL)** <br />\n",
    "[문제](https://school.programmers.co.kr/learn/courses/30/lessons/131533) : \n",
    "```\n",
    "PRODUCT 테이블과 OFFLINE_SALE 테이블에서 상품코드 별 매출액(판매가 * 판매량) 합계를 출력하는 SQL문을 작성해주세요. 결과는 매출액을 기준으로 내림차순 정렬해주시고 매출액이 같다면 상품코드를 기준으로 오름차순 정렬\n",
    "\n",
    "\n",
    "각 상품 별 총 판매량과 판매가는 다음과 같습니다.\n",
    "\n",
    "PRODUCT_CODE 가 A1000011인 상품은 총 판매량이 6개, 판매가가 15,000원\n",
    "PRODUCT_CODE 가 A1000045인 상품은 총 판매량이 2개, 판매가가 8,000원\n",
    "PRODUCT_CODE 가 C3000002인 상품은 총 판매량이 3개, 판매가가 42,000원\n",
    "그러므로 각 상품 별 매출액을 계산하고 정렬하면 결과가 다음과 같이 나와야 합니다.\n",
    "\n",
    "PRODUCT_CODE\tSALES\n",
    "C3000002\t126000\n",
    "A1000011\t90000\n",
    "A1000045\t16000\n",
    "```"
   ]
  },
  {
   "cell_type": "code",
   "execution_count": null,
   "id": "d8e56f78",
   "metadata": {},
   "outputs": [],
   "source": [
    "SELECT\n",
    "    P.PRODUCT_CODE\n",
    "    ,SUM(P.PRICE * O.SALES_AMOUNT) AS SALES\n",
    "FROM \n",
    "    PRODUCT P\n",
    "INNER JOIN \n",
    "    OFFLINE_SALE O\n",
    "ON P.PRODUCT_ID = O.PRODUCT_ID\n",
    "GROUP BY P.PRODUCT_ID\n",
    "ORDER BY SALES DESC , P.PRODUCT_CODE"
   ]
  }
 ],
 "metadata": {
  "kernelspec": {
   "display_name": "JavaScript (Node.js)",
   "language": "javascript",
   "name": "javascript"
  },
  "language_info": {
   "file_extension": ".js",
   "mimetype": "application/javascript",
   "name": "javascript",
   "version": "18.12.1"
  }
 },
 "nbformat": 4,
 "nbformat_minor": 5
}
