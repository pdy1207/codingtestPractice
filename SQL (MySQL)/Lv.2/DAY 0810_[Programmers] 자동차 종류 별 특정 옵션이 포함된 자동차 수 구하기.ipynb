{
 "cells": [
  {
   "cell_type": "markdown",
   "id": "a8157e8c",
   "metadata": {},
   "source": [
    "### 2023년 08월 10일 목요일\n",
    "---\n",
    "**Programmers - 자동차 종류 별 특정 옵션이 포함된 자동차 수 구하기 (MySQL)** <br />\n",
    "[문제](https://school.programmers.co.kr/learn/courses/30/lessons/151137) : \n",
    "```\n",
    "CAR_RENTAL_COMPANY_CAR 테이블에서 '통풍시트', '열선시트', '가죽시트' 중 하나 이상의 옵션이 \n",
    "포함된 자동차가 자동차 종류 별로 몇 대인지 출력하는 SQL문을 작성해주세요. 이때 자동차 수에 대한 컬럼명은 CARS로 지정하고, \n",
    "결과는 자동차 종류를 기준으로 오름차순 정렬\n",
    "```"
   ]
  },
  {
   "cell_type": "code",
   "execution_count": null,
   "id": "d8e56f78",
   "metadata": {},
   "outputs": [],
   "source": [
    "SELECT\n",
    "    car_type\n",
    "    ,COUNT(*) AS CARS\n",
    "FROM \n",
    "    CAR_RENTAL_COMPANY_CAR\n",
    "WHERE \n",
    "    OPTIONS REGEXP '통풍시트|열선시트|가죽시트'        \n",
    "GROUP BY \n",
    "    car_type\n",
    "ORDER BY\n",
    "    car_type \n",
    "           \n",
    "// 정규식 활용한 문법"
   ]
  },
  {
   "cell_type": "code",
   "execution_count": null,
   "id": "ea397b58",
   "metadata": {},
   "outputs": [],
   "source": [
    "SELECT \n",
    "    CAR_TYPE\n",
    "    ,COUNT(*) AS CARS\n",
    "FROM \n",
    "    CAR_RENTAL_COMPANY_CAR\n",
    "WHERE \n",
    "    OPTIONS \n",
    "           LIKE '%통풍시트%' OR OPTIONS \n",
    "           LIKE '%열선시트%' OR OPTIONS \n",
    "           LIKE '%가죽시트%'\n",
    "GROUP BY \n",
    "    CAR_TYPE\n",
    "ORDER BY \n",
    "    CAR_TYPE;"
   ]
  }
 ],
 "metadata": {
  "kernelspec": {
   "display_name": "JavaScript (Node.js)",
   "language": "javascript",
   "name": "javascript"
  },
  "language_info": {
   "file_extension": ".js",
   "mimetype": "application/javascript",
   "name": "javascript",
   "version": "18.12.1"
  }
 },
 "nbformat": 4,
 "nbformat_minor": 5
}
