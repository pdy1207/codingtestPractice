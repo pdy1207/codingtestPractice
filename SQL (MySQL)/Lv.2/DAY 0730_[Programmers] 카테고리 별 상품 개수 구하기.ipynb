{
 "cells": [
  {
   "cell_type": "markdown",
   "id": "f5c029ac",
   "metadata": {},
   "source": [
    "### 2023년 07월 30일 일요일\n",
    "\n",
    "---\n",
    "**Programmers - 카테고리 별 상품 개수 구하기 (MySQL)** <br />\n",
    "[문제](https://school.programmers.co.kr/learn/courses/30/lessons/131529) \n",
    "```\n",
    "PRODUCT 테이블에서 상품 카테고리 코드(PRODUCT_CODE 앞 2자리) 별 상품 개수를 출력하는 SQL문을 작성해주세요. 결과는 상품 카테고리 코드를 기준으로 오름차순 정렬\n",
    "```"
   ]
  },
  {
   "cell_type": "code",
   "execution_count": null,
   "id": "58df2eab",
   "metadata": {},
   "outputs": [],
   "source": [
    "SELECT\n",
    "    LEFT(PRODUCT_CODE,2) AS CATEGORY\n",
    "    ,COUNT(PRODUCT_CODE) AS PRODUCTS\n",
    "FROM \n",
    "    PRODUCT \n",
    "GROUP BY \n",
    "    1\n",
    "ORDER BY \n",
    "    PRODUCT_CODE ASC"
   ]
  },
  {
   "cell_type": "markdown",
   "id": "638ea3d9",
   "metadata": {},
   "source": [
    "```\n",
    "GROUP BY 1: 이 부분은 첫 번째 컬럼(CATEGORY)을 기준으로 데이터를 그룹화하는 것을 의미합니다. \n",
    "즉, 같은 카테고리 값을 가진 데이터들이 하나의 그룹으로 묶이게 됩니다.\n",
    "```"
   ]
  },
  {
   "cell_type": "markdown",
   "id": "90bdf548",
   "metadata": {},
   "source": [
    "### GROUP BY 에 대한 해설\n",
    "\n",
    "```\n",
    "학생 성적 테이블(Scores Table)에서 학생별로 평균 점수를 구하는 SQL 쿼리문을 작성해보세요.\n",
    "\n",
    "테이블: Scores Table\n",
    "\n",
    "\n",
    "Name    Subject     Score\n",
    "-------------------------\n",
    "Alice   Math        90\n",
    "Bob     Science     85\n",
    "Alice   Science     88\n",
    "Bob     Math        78\n",
    "Alice   History     92\n",
    "\n",
    "예상되는 결과:\n",
    "\n",
    "\n",
    "Copy code\n",
    "Name    Average_Score\n",
    "--------------------\n",
    "Alice   90.0\n",
    "Bob     81.5\n",
    "\n",
    "이 문제를 해결하기 위해서는 GROUP BY 절을 사용하여 학생 이름(Name)으로 그룹화하고, \n",
    "AVG 함수를 사용하여 평균 점수를 계산해야 합니다. 힌트를 드리면 다음과 같은 쿼리문을 사용할 수 있습니다.\n",
    "\n",
    "sql\n",
    "\n",
    "\n",
    "SELECT Name, AVG(Score) AS Average_Score\n",
    "FROM Scores\n",
    "GROUP BY Name;\n",
    "\n",
    "이렇게 하면 각 학생의 평균 점수를 구할 수 있습니다. \n",
    "```"
   ]
  }
 ],
 "metadata": {
  "kernelspec": {
   "display_name": "JavaScript (Node.js)",
   "language": "javascript",
   "name": "javascript"
  },
  "language_info": {
   "file_extension": ".js",
   "mimetype": "application/javascript",
   "name": "javascript",
   "version": "16.17.1"
  }
 },
 "nbformat": 4,
 "nbformat_minor": 5
}
