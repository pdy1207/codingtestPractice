{
 "cells": [
  {
   "cell_type": "markdown",
   "id": "a8157e8c",
   "metadata": {},
   "source": [
    "### 2023년 07월 27일 목요일\n",
    "---\n",
    "**Programmers - 중성화 여부 파악하기 (MySQL)** <br />\n",
    "[문제](https://school.programmers.co.kr/learn/courses/30/lessons/59409) : \n",
    "```\n",
    "중성화된 동물은 SEX_UPON_INTAKE 컬럼에 'Neutered' 또는 'Spayed'라는 단어가 들어있습니다. 동물의 아이디와 이름, 중성화 여부를 아이디 순으로 조회하는 SQL문을 작성해주세요. 이때 중성화가 되어있다면 'O', 아니라면 'X'라고 표시\n",
    "\n",
    "따라서 SQL문을 실행하면 다음과 같이 나와야 합니다.\n",
    "\n",
    "ANIMAL_ID\tNAME\t중성화\n",
    "A355753\tElijah\tO\n",
    "A373219\tElla\tO\n",
    "A382192\tMaxwell 2\tX\n",
    "```"
   ]
  },
  {
   "cell_type": "code",
   "execution_count": null,
   "id": "d8e56f78",
   "metadata": {},
   "outputs": [],
   "source": [
    "SELECT\n",
    "    ANIMAL_ID,\n",
    "    NAME,\n",
    "    IF(SEX_UPON_INTAKE REGEXP ('Neutered|Spayed'),'O','X') AS 중성화\n",
    "FROM\n",
    "    ANIMAL_INS\n",
    "ORDER BY\n",
    "    ANIMAL_ID\n",
    "    \n",
    "// cast 문 \n",
    "    \n",
    "        \n",
    "SELECT \n",
    "    ANIMAL_ID, \n",
    "    NAME,\n",
    "    CASE \n",
    "        WHEN \n",
    "        (SEX_UPON_INTAKE LIKE '%NEUTERED%' OR SEX_UPON_INTAKE LIKE '%SPAYED%') \n",
    "        THEN 'O' \n",
    "            ELSE 'X' \n",
    "    END AS '중성화'\n",
    "FROM \n",
    "    ANIMAL_INS\n",
    "ORDER BY ANIMAL_ID ASC\n",
    "\n",
    "\n",
    "// 논리로 의하면 이건 왜 틀린지 이해가 안됨 추후 정답 공개함\n",
    "\n",
    "SELECT\n",
    "    ANIMAL_ID,\n",
    "    NAME,\n",
    "    CASE\n",
    "        WHEN SEX_UPON_INTAKE = 'Intact Male' THEN 'X'\n",
    "        ELSE 'O'\n",
    "    END AS '중성화'\n",
    "FROM \n",
    "    ANIMAL_INS  \n",
    "ORDER BY\n",
    "    ANIMAL_ID asc    "
   ]
  }
 ],
 "metadata": {
  "kernelspec": {
   "display_name": "JavaScript (Node.js)",
   "language": "javascript",
   "name": "javascript"
  },
  "language_info": {
   "file_extension": ".js",
   "mimetype": "application/javascript",
   "name": "javascript",
   "version": "18.12.1"
  }
 },
 "nbformat": 4,
 "nbformat_minor": 5
}
