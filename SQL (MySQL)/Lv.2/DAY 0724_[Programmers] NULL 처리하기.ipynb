{
 "cells": [
  {
   "cell_type": "markdown",
   "id": "f5c029ac",
   "metadata": {},
   "source": [
    "### 2023년 07월 24일 월요일\n",
    "\n",
    "---\n",
    "**Programmers - NULL 처리하기 (MySQL)** <br />\n",
    "[문제](https://school.programmers.co.kr/learn/courses/30/lessons/59410) \n",
    "```\n",
    " 동물의 생물 종, 이름, 성별 및 중성화 여부를 아이디 순으로 조회하는 SQL문을 작성해주세요. 이때 프로그래밍을 모르는 사람들은 NULL이라는 기호를 모르기 때문에, 이름이 없는 동물의 이름은 \"No name\"으로 표시\n",
    "```"
   ]
  },
  {
   "cell_type": "code",
   "execution_count": null,
   "id": "58df2eab",
   "metadata": {},
   "outputs": [],
   "source": [
    "SELECT\n",
    "    ANIMAL_TYPE\n",
    "    ,IFNULL(NAME, 'No name') AS NAME\n",
    "    ,SEX_UPON_INTAKE\n",
    "FROM \n",
    "    ANIMAL_INS \n",
    "ORDER BY ANIMAL_ID    "
   ]
  }
 ],
 "metadata": {
  "kernelspec": {
   "display_name": "JavaScript (Node.js)",
   "language": "javascript",
   "name": "javascript"
  },
  "language_info": {
   "file_extension": ".js",
   "mimetype": "application/javascript",
   "name": "javascript",
   "version": "16.17.1"
  }
 },
 "nbformat": 4,
 "nbformat_minor": 5
}
