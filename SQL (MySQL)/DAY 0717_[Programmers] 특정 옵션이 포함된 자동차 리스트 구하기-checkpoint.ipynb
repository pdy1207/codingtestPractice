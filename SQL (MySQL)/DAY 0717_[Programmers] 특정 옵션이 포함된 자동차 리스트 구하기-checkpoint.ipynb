{
 "cells": [
  {
   "cell_type": "markdown",
   "id": "a8157e8c",
   "metadata": {},
   "source": [
    "### 2023년 07월 17일 월요일\n",
    "---\n",
    "**Programmers - 특정 옵션이 포함된 자동차 리스트 구하기 (MySQL)** <br />\n",
    "[문제](https://school.programmers.co.kr/learn/courses/30/lessons/157343) : \n",
    "```\n",
    "CAR_RENTAL_COMPANY_CAR 테이블에서 '네비게이션' 옵션이 포함된 자동차 리스트를 출력하는 SQL문을 작성해주세요. 결과는 자동차 ID를 기준으로 내림차순 정렬\n",
    "```"
   ]
  },
  {
   "cell_type": "code",
   "execution_count": null,
   "id": "d8e56f78",
   "metadata": {},
   "outputs": [],
   "source": [
    "SELECT\n",
    "    *\n",
    "FROM \n",
    "    CAR_RENTAL_COMPANY_CAR\n",
    "WHERE \n",
    "    OPTIONS LIKE '%네비게이션%'\n",
    "ORDER BY\n",
    "    CAR_ID DESC"
   ]
  }
 ],
 "metadata": {
  "kernelspec": {
   "display_name": "JavaScript (Node.js)",
   "language": "javascript",
   "name": "javascript"
  },
  "language_info": {
   "file_extension": ".js",
   "mimetype": "application/javascript",
   "name": "javascript",
   "version": "18.12.1"
  }
 },
 "nbformat": 4,
 "nbformat_minor": 5
}
