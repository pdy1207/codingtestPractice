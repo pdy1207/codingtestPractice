{
 "cells": [
  {
   "cell_type": "markdown",
   "id": "71e5ac24",
   "metadata": {},
   "source": [
    "### 2023년 07월 13일 목요일\n",
    "---\n",
    "**Programmers - 12세 이하인 여자 환자 목록 출력하기 (MySQL)** <br />\n",
    "[문제](https://school.programmers.co.kr/learn/courses/30/lessons/132201) :  12세 이하인 여자환자의 환자이름, 환자번호, 성별코드, 나이, 전화번호를 조회하는 SQL문 <br />\n",
    "*전화번호가 없는 경우, 'NONE'으로 출력* <br/>\n",
    "*결과는 나이를 기준으로 내림차순 정렬하고, 나이 같다면 환자이름을 기준으로 오름차순 정렬*"
   ]
  },
  {
   "cell_type": "code",
   "execution_count": null,
   "id": "9e3ae029",
   "metadata": {},
   "outputs": [],
   "source": [
    "SELECT\n",
    "    PT_NAME\n",
    "    ,PT_NO\n",
    "    ,GEND_CD\n",
    "    ,AGE\n",
    "    ,IFNULL(TLNO, 'NONE') AS TLNO\n",
    "FROM \n",
    "    PATIENT\n",
    "WHERE \n",
    "    AGE <= 12 AND GEND_CD = 'W'\n",
    "ORDER BY \n",
    "    AGE DESC , PT_NAME ASC"
   ]
  },
  {
   "cell_type": "code",
   "execution_count": null,
   "id": "50c5ce38",
   "metadata": {},
   "outputs": [],
   "source": [
    "IFNULL 해당 컬럼을 조회했을때, NULL이면 보여줄 TEXT 그 외 COALESCE / ISNULL 이러한 함수도 존재함."
   ]
  }
 ],
 "metadata": {
  "kernelspec": {
   "display_name": "JavaScript (Node.js)",
   "language": "javascript",
   "name": "javascript"
  },
  "language_info": {
   "file_extension": ".js",
   "mimetype": "application/javascript",
   "name": "javascript",
   "version": "18.12.1"
  }
 },
 "nbformat": 4,
 "nbformat_minor": 5
}
