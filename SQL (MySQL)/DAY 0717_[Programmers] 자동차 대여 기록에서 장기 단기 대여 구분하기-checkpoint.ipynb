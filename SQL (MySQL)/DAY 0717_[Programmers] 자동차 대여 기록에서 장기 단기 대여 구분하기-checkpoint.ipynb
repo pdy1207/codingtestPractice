{
 "cells": [
  {
   "cell_type": "markdown",
   "id": "a8157e8c",
   "metadata": {},
   "source": [
    "### 2023년 07월 17일 월요일\n",
    "---\n",
    "**Programmers - 자동차 대여 기록에서 장기/단기 대여 구분하기 (MySQL)** <br />\n",
    "[문제](https://school.programmers.co.kr/learn/courses/30/lessons/151138) : \n",
    "```\n",
    "CAR_RENTAL_COMPANY_RENTAL_HISTORY 테이블에서 대여 시작일이 2022년 9월에 속하는 대여 기록에 대해서 대여 기간이 30일 이상이면 '장기 대여' 그렇지 않으면 '단기 대여' 로 표시하는 컬럼(컬럼명: RENT_TYPE)을 추가하여 대여기록을 출력하는 SQL문을 작성해주세요. 결과는 대여 기록 ID를 기준으로 내림차순 정렬\n",
    "```"
   ]
  },
  {
   "cell_type": "code",
   "execution_count": null,
   "id": "d8e56f78",
   "metadata": {},
   "outputs": [],
   "source": [
    "SELECT \n",
    "    HISTORY_ID\n",
    "    ,CAR_ID\n",
    "    ,DATE_FORMAT (START_DATE, \"%Y-%m-%d\") AS START_DATE\n",
    "    ,DATE_FORMAT (END_DATE, \"%Y-%m-%d\") AS END_DATE\n",
    "    ,\n",
    "CASE WHEN DATEDIFF(END_DATE, START_DATE) < 29 then '단기 대여' \n",
    "            ELSE '장기 대여' \n",
    "            END AS  RENT_TYPE\n",
    "FROM \n",
    "    CAR_RENTAL_COMPANY_RENTAL_HISTORY\n",
    "WHERE \n",
    "    START_DATE LIKE '2022-09-%'\n",
    "ORDER BY \n",
    "    HISTORY_ID DESC;"
   ]
  },
  {
   "cell_type": "code",
   "execution_count": null,
   "id": "ab6057b3",
   "metadata": {},
   "outputs": [],
   "source": [
    "# CASE문 사용 방법\n",
    "\n",
    "CASE\n",
    "\tWHEN 조건1 THEN 결과값1\n",
    "\tWHEN 조건2 THEN 결과값2\n",
    "\tWHEN 조건N THEN 결과값N\n",
    "\tELSE 결과값\n",
    "END"
   ]
  }
 ],
 "metadata": {
  "kernelspec": {
   "display_name": "JavaScript (Node.js)",
   "language": "javascript",
   "name": "javascript"
  },
  "language_info": {
   "file_extension": ".js",
   "mimetype": "application/javascript",
   "name": "javascript",
   "version": "18.12.1"
  }
 },
 "nbformat": 4,
 "nbformat_minor": 5
}
