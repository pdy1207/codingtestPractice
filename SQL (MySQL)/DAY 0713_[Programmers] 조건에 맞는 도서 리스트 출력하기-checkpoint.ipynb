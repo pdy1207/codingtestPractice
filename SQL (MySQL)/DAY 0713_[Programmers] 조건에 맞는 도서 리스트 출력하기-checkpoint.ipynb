{
 "cells": [
  {
   "cell_type": "markdown",
   "id": "a8157e8c",
   "metadata": {},
   "source": [
    "### 2023년 07월 14일 금요일\n",
    "---\n",
    "**Programmers - 조건에 맞는 도서 리스트 출력하기 (MySQL)** <br />\n",
    "[문제](https://school.programmers.co.kr/learn/courses/30/lessons/144853) : \n",
    "```\n",
    "2021년에 출판된 '인문' 카테고리에 속하는 도서 리스트를 찾아서 도서 ID(BOOK_ID), 출판일 (PUBLISHED_DATE)을 출력하는 SQL문을 작성해주세요.\n",
    "결과는 출판일을 기준으로 오름차순 정렬\n",
    "```"
   ]
  },
  {
   "cell_type": "code",
   "execution_count": null,
   "id": "d8e56f78",
   "metadata": {},
   "outputs": [],
   "source": [
    "SELECT \n",
    "    BOOK_ID\n",
    "    ,DATE_FORMAT(PUBLISHED_DATE,'%Y-%m-%d') AS PUBLISHED_DATE\n",
    "FROM \n",
    "    BOOK    \n",
    "WHERE \n",
    "    CATEGORY = '인문'\n",
    "AND \n",
    "    PUBLISHED_DATE LIKE '2021%'\n",
    "ORDER BY\n",
    "    PUBLISHED_DATE ASC "
   ]
  },
  {
   "cell_type": "code",
   "execution_count": null,
   "id": "0a6ed0aa",
   "metadata": {},
   "outputs": [],
   "source": [
    "SELECT \n",
    "    BOOK_ID\n",
    "    ,DATE_FORMAT(PUBLISHED_DATE, '%Y-%m-%d') AS PUBLISHED_DATE\n",
    "FROM \n",
    "    BOOK\n",
    "WHERE \n",
    "    DATE_FORMAT(PUBLISHED_DATE, '%Y') = '2021' \n",
    "    AND CATEGORY = '인문'\n",
    "ORDER BY \n",
    "    PUBLISHED_DATE"
   ]
  }
 ],
 "metadata": {
  "kernelspec": {
   "display_name": "JavaScript (Node.js)",
   "language": "javascript",
   "name": "javascript"
  },
  "language_info": {
   "file_extension": ".js",
   "mimetype": "application/javascript",
   "name": "javascript",
   "version": "18.12.1"
  }
 },
 "nbformat": 4,
 "nbformat_minor": 5
}
