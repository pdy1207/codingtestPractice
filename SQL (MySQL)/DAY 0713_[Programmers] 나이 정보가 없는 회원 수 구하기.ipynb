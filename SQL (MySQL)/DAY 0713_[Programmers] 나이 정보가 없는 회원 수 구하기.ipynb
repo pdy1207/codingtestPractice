{
 "cells": [
  {
   "cell_type": "markdown",
   "id": "839cef03",
   "metadata": {},
   "source": [
    "### 2023년 07월 13일 목요일\n",
    "---\n",
    "**Programmers - 나이 정보가 없는 회원 수 구하기 (MySQL)** <br />\n",
    "[문제](https://school.programmers.co.kr/learn/courses/30/lessons/131528) :  USER_INFO 테이블에서 나이 정보가 없는 회원이 몇 명인지 출력하는 SQL문 <br />\n",
    "*이때 컬럼명은 USERS*"
   ]
  },
  {
   "cell_type": "code",
   "execution_count": null,
   "id": "86b31b45",
   "metadata": {},
   "outputs": [],
   "source": [
    "SELECT\n",
    "    COUNT(USER_ID) AS USERS\n",
    "FROM \n",
    "    USER_INFO \n",
    "WHERE \n",
    "    AGE IS NULL"
   ]
  }
 ],
 "metadata": {
  "kernelspec": {
   "display_name": "Python 3 (ipykernel)",
   "language": "python",
   "name": "python3"
  },
  "language_info": {
   "codemirror_mode": {
    "name": "ipython",
    "version": 3
   },
   "file_extension": ".py",
   "mimetype": "text/x-python",
   "name": "python",
   "nbconvert_exporter": "python",
   "pygments_lexer": "ipython3",
   "version": "3.11.3"
  }
 },
 "nbformat": 4,
 "nbformat_minor": 5
}
