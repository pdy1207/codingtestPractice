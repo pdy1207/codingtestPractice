{
 "cells": [
  {
   "cell_type": "markdown",
   "id": "a8157e8c",
   "metadata": {},
   "source": [
    "### 2023년 07월 14일 금요일\n",
    "---\n",
    "**Programmers - 과일로 만든 아이스크림 고르기 (MySQL)** <br />\n",
    "[문제](https://school.programmers.co.kr/learn/courses/30/lessons/133025) : \n",
    "```\n",
    "상반기 아이스크림 총주문량이 3,000보다 높으면서 아이스크림의 주 성분이 과일인 아이스크림의 맛을 총주문량이 큰 순서대로 조회하는 SQL 문\n",
    "```"
   ]
  },
  {
   "cell_type": "code",
   "execution_count": null,
   "id": "d8e56f78",
   "metadata": {},
   "outputs": [],
   "source": [
    "SELECT\n",
    "    F.FLAVOR\n",
    "FROM \n",
    "    FIRST_HALF F\n",
    "LEFT JOIN \n",
    "    ICECREAM_INFO I ON F.FLAVOR = I.FLAVOR\n",
    "WHERE \n",
    "    F.TOTAL_ORDER > 3000\n",
    "AND\n",
    "    I.INGREDIENT_TYPE = 'fruit_based'\n",
    "\n",
    "// 혹은 inner join으로도 가능"
   ]
  }
 ],
 "metadata": {
  "kernelspec": {
   "display_name": "JavaScript (Node.js)",
   "language": "javascript",
   "name": "javascript"
  },
  "language_info": {
   "file_extension": ".js",
   "mimetype": "application/javascript",
   "name": "javascript",
   "version": "18.12.1"
  }
 },
 "nbformat": 4,
 "nbformat_minor": 5
}
