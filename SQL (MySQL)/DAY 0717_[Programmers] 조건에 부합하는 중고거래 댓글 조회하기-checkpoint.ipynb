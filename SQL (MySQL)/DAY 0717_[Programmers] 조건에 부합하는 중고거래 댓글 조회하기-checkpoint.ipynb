{
 "cells": [
  {
   "cell_type": "markdown",
   "id": "a8157e8c",
   "metadata": {},
   "source": [
    "### 2023년 07월 17일 월요일\n",
    "---\n",
    "**Programmers - 조건에 부합하는 중고거래 댓글 조회하기 (MySQL)** <br />\n",
    "[문제](https://school.programmers.co.kr/learn/courses/30/lessons/164673) : \n",
    "```\n",
    "USED_GOODS_BOARD와 USED_GOODS_REPLY 테이블에서 2022년 10월에 작성된 게시글 제목, 게시글 ID, 댓글 ID, 댓글 작성자 ID, 댓글 내용, 댓글 작성일을 조회하는 SQL문을 작성해주세요. 결과는 댓글 작성일을 기준으로 오름차순 정렬해주시고, 댓글 작성일이 같다면 게시글 제목을 기준으로 오름차순 정렬\n",
    "```"
   ]
  },
  {
   "cell_type": "code",
   "execution_count": null,
   "id": "d8e56f78",
   "metadata": {},
   "outputs": [],
   "source": [
    "SELECT \n",
    "    U.TITLE\n",
    "    ,U.BOARD_ID\n",
    "    ,R.REPLY_ID\n",
    "    ,R.WRITER_ID\n",
    "    ,R.CONTENTS\n",
    "    ,DATE_FORMAT(R.CREATED_DATE,'%Y-%m-%d') AS CREATED_DATE\n",
    "FROM \n",
    "    USED_GOODS_BOARD U\n",
    "INNER JOIN \n",
    "    USED_GOODS_REPLY R ON U.BOARD_ID = R.BOARD_ID\n",
    "WHERE \n",
    "    U.CREATED_DATE BETWEEN '2022-10-01' AND '2022-10-31'\n",
    "ORDER BY\n",
    "    R.CREATED_DATE ASC, U.TITLE ASC"
   ]
  }
 ],
 "metadata": {
  "kernelspec": {
   "display_name": "JavaScript (Node.js)",
   "language": "javascript",
   "name": "javascript"
  },
  "language_info": {
   "file_extension": ".js",
   "mimetype": "application/javascript",
   "name": "javascript",
   "version": "18.12.1"
  }
 },
 "nbformat": 4,
 "nbformat_minor": 5
}
