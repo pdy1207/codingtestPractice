{
 "cells": [
  {
   "cell_type": "markdown",
   "id": "71e5ac24",
   "metadata": {},
   "source": [
    "### 2023년 07월 13일 목요일\n",
    "---\n",
    "**Programmers - 조건에 맞는 회원수 구하기 (MySQL)** <br />\n",
    "[문제](https://school.programmers.co.kr/learn/courses/30/lessons/131535) :  2021년에 가입한 회원 중 나이가 20세 이상 29세 이하인 회원이 몇 명인지 출력하는 SQL문 "
   ]
  },
  {
   "cell_type": "code",
   "execution_count": null,
   "id": "9e3ae029",
   "metadata": {},
   "outputs": [],
   "source": [
    "SELECT\n",
    "    COUNT(USER_ID) AS USERS\n",
    "FROM \n",
    "    USER_INFO\n",
    "WHERE \n",
    "    AGE <= 29 AND AGE >= 20 AND JOINED LIKE '2021%'\n",
    "    \n",
    "SELECT \n",
    "    COUNT(USER_ID) as USERS\n",
    "FROM USER_INFO\n",
    "WHERE \n",
    "    year(JOINED) = 2021 \n",
    "    AND age BETWEEN 20 AND 29;"
   ]
  },
  {
   "cell_type": "code",
   "execution_count": null,
   "id": "50c5ce38",
   "metadata": {},
   "outputs": [],
   "source": [
    "BETWEEN / year 까먹지 말기 !"
   ]
  }
 ],
 "metadata": {
  "kernelspec": {
   "display_name": "JavaScript (Node.js)",
   "language": "javascript",
   "name": "javascript"
  },
  "language_info": {
   "file_extension": ".js",
   "mimetype": "application/javascript",
   "name": "javascript",
   "version": "18.12.1"
  }
 },
 "nbformat": 4,
 "nbformat_minor": 5
}
