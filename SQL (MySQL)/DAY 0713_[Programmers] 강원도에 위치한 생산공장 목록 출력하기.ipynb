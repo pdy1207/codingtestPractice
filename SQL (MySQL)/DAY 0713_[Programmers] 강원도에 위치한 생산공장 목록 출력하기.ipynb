{
 "cells": [
  {
   "cell_type": "markdown",
   "id": "839cef03",
   "metadata": {},
   "source": [
    "### 2023년 07월 13일 목요일\n",
    "---\n",
    "**Programmers - 강원도에 위치한 생산공장 목록 출력하기 (MySQL)** <br />\n",
    "[문제](https://school.programmers.co.kr/learn/courses/30/lessons/131112) :  식품공장의 공장 ID, 공장 이름, 주소를 조회하는 SQL문 <br />\n",
    "*공장 ID를 기준으로 오름차순 정렬*"
   ]
  },
  {
   "cell_type": "code",
   "execution_count": null,
   "id": "2fe6c1c8",
   "metadata": {},
   "outputs": [],
   "source": [
    "SELECT\n",
    "    FACTORY_ID\n",
    "    ,FACTORY_NAME\n",
    "    ,ADDRESS\n",
    "FROM \n",
    "    FOOD_FACTORY \n",
    "WHERE \n",
    "    ADDRESS LIKE '강원도%'\n",
    "ORDER BY \n",
    "    FACTORY_ID"
   ]
  },
  {
   "cell_type": "code",
   "execution_count": null,
   "id": "736d25a9",
   "metadata": {},
   "outputs": [],
   "source": [
    "LIKE '강원도%' MySQL like문 (특정 문자 포함되어있는지 검색)"
   ]
  }
 ],
 "metadata": {
  "kernelspec": {
   "display_name": "Python 3 (ipykernel)",
   "language": "python",
   "name": "python3"
  },
  "language_info": {
   "codemirror_mode": {
    "name": "ipython",
    "version": 3
   },
   "file_extension": ".py",
   "mimetype": "text/x-python",
   "name": "python",
   "nbconvert_exporter": "python",
   "pygments_lexer": "ipython3",
   "version": "3.11.3"
  }
 },
 "nbformat": 4,
 "nbformat_minor": 5
}
