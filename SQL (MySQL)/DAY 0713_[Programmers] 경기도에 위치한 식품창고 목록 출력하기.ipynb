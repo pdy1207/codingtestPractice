{
 "cells": [
  {
   "cell_type": "markdown",
   "id": "839cef03",
   "metadata": {},
   "source": [
    "### 2023년 07월 13일 목요일\n",
    "---\n",
    "**Programmers - 경기도에 위치한 식품창고 목록 출력하기 (MySQL)** <br />\n",
    "[문제](https://school.programmers.co.kr/learn/courses/30/lessons/131114) :  창고의 ID, 이름, 주소, 냉동시설 여부를 조회하는 SQL문 <br />\n",
    "*창고 ID를 기준으로 오름차순 정렬*"
   ]
  },
  {
   "cell_type": "code",
   "execution_count": null,
   "id": "2fe6c1c8",
   "metadata": {},
   "outputs": [],
   "source": [
    "SELECT \n",
    "    WAREHOUSE_ID\n",
    "    ,WAREHOUSE_NAME\n",
    "    ,ADDRESS\n",
    "    ,IFNULL(FREEZER_YN, 'N') AS FREEZER_YN\n",
    "FROM \n",
    "    FOOD_WAREHOUSE\n",
    "WHERE \n",
    "    WAREHOUSE_NAME LIKE '%창고_경기%'\n",
    "ORDER BY \n",
    "    WAREHOUSE_ID"
   ]
  },
  {
   "cell_type": "code",
   "execution_count": null,
   "id": "736d25a9",
   "metadata": {},
   "outputs": [],
   "source": [
    "MySQL에서 Column의 값이 Null인 경우를 처리해주는 함수들은 IFNULL, CASE, COALESCE"
   ]
  }
 ],
 "metadata": {
  "kernelspec": {
   "display_name": "Python 3 (ipykernel)",
   "language": "python",
   "name": "python3"
  },
  "language_info": {
   "codemirror_mode": {
    "name": "ipython",
    "version": 3
   },
   "file_extension": ".py",
   "mimetype": "text/x-python",
   "name": "python",
   "nbconvert_exporter": "python",
   "pygments_lexer": "ipython3",
   "version": "3.11.3"
  }
 },
 "nbformat": 4,
 "nbformat_minor": 5
}
