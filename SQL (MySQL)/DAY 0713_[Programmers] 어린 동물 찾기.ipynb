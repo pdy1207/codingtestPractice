{
 "cells": [
  {
   "cell_type": "markdown",
   "id": "0c9b9cc4",
   "metadata": {},
   "source": [
    "### 2023년 07월 13일 목요일\n",
    "\n",
    "---\n",
    "**Programmers - 어린 동물 찾기 (MySQL)** <br />\n",
    "[문제](https://school.programmers.co.kr/learn/courses/30/lessons/59037) : 동물 중 젊은 동물의 아이디와 이름을 조회하는 SQL 문 <br /> *결과는 아이디 순*"
   ]
  },
  {
   "cell_type": "code",
   "execution_count": null,
   "id": "ec078978",
   "metadata": {},
   "outputs": [],
   "source": [
    "SELECT \n",
    "    ANIMAL_ID\n",
    "    ,NAME\n",
    "FROM \n",
    "    ANIMAL_INS \n",
    "WHERE \n",
    "    INTAKE_CONDITION != 'Aged'\n",
    "ORDER BY\n",
    "    ANIMAL_ID "
   ]
  }
 ],
 "metadata": {
  "kernelspec": {
   "display_name": "JavaScript (Node.js)",
   "language": "javascript",
   "name": "javascript"
  },
  "language_info": {
   "file_extension": ".js",
   "mimetype": "application/javascript",
   "name": "javascript",
   "version": "18.12.1"
  }
 },
 "nbformat": 4,
 "nbformat_minor": 5
}
