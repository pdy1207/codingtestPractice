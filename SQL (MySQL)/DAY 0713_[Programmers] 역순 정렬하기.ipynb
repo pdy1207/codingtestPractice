{
 "cells": [
  {
   "cell_type": "markdown",
   "id": "0c9b9cc4",
   "metadata": {},
   "source": [
    "### 2023년 07월 13일 목요일\n",
    "\n",
    "---\n",
    "**Programmers - 역순 정렬하기 (MySQL)** <br />\n",
    "[문제](https://school.programmers.co.kr/learn/courses/30/lessons/59035) : 모든 동물의 이름과 보호 시작일을 조회하는 SQL문 *결과는 ANIMAL_ID 역순*"
   ]
  },
  {
   "cell_type": "code",
   "execution_count": null,
   "id": "ec078978",
   "metadata": {},
   "outputs": [],
   "source": [
    "SELECT \n",
    "    NAME\n",
    "    ,DATETIME\n",
    "FROM ANIMAL_INS \n",
    "ORDER BY \n",
    "    ANIMAL_ID DESC"
   ]
  }
 ],
 "metadata": {
  "kernelspec": {
   "display_name": "JavaScript (Node.js)",
   "language": "javascript",
   "name": "javascript"
  },
  "language_info": {
   "file_extension": ".js",
   "mimetype": "application/javascript",
   "name": "javascript",
   "version": "18.12.1"
  }
 },
 "nbformat": 4,
 "nbformat_minor": 5
}
