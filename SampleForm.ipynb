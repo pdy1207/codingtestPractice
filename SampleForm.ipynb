{
 "cells": [
  {
   "cell_type": "markdown",
   "id": "874cefc8",
   "metadata": {},
   "source": [
    "### 0000년 00월 00일 0요일\n",
    "---\n",
    "**문제집 - 제목 (언어)** <br />\n",
    "[문제] (링크) :  문제 <br />\n",
    "*부가설명*"
   ]
  },
  {
   "cell_type": "code",
   "execution_count": null,
   "id": "6b07d690",
   "metadata": {},
   "outputs": [],
   "source": []
  }
 ],
 "metadata": {
  "kernelspec": {
   "display_name": "JavaScript (Node.js)",
   "language": "javascript",
   "name": "javascript"
  },
  "language_info": {
   "file_extension": ".js",
   "mimetype": "application/javascript",
   "name": "javascript",
   "version": "18.12.1"
  }
 },
 "nbformat": 4,
 "nbformat_minor": 5
}
